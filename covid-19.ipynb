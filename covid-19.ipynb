{
 "cells": [
  {
   "cell_type": "code",
   "execution_count": 1,
   "metadata": {
    "_cell_guid": "79c7e3d0-c299-4dcb-8224-4455121ee9b0",
    "_uuid": "d629ff2d2480ee46fbb7e2d37f6b5fab8052498a",
    "execution": {
     "iopub.execute_input": "2020-09-25T14:23:07.540211Z",
     "iopub.status.busy": "2020-09-25T14:23:07.539435Z",
     "iopub.status.idle": "2020-09-25T14:23:20.384313Z",
     "shell.execute_reply": "2020-09-25T14:23:20.383145Z"
    },
    "papermill": {
     "duration": 12.878926,
     "end_time": "2020-09-25T14:23:20.384470",
     "exception": false,
     "start_time": "2020-09-25T14:23:07.505544",
     "status": "completed"
    },
    "tags": []
   },
   "outputs": [
    {
     "name": "stderr",
     "output_type": "stream",
     "text": [
      "\u001b[34m\u001b[1mwandb\u001b[0m: \u001b[33mWARNING\u001b[0m W&B installed but not logged in.  Run `wandb login` or set the WANDB_API_KEY env variable.\n"
     ]
    }
   ],
   "source": [
    "import time\n",
    "import warnings\n",
    "warnings.filterwarnings('ignore')\n",
    "import pandas as pd, numpy as np\n",
    "import math, json, gc, random, os, sys\n",
    "import torch\n",
    "import logging\n",
    "import torch.nn as nn\n",
    "import torch.optim as optim\n",
    "import torch.utils.data as data\n",
    "from sklearn.model_selection import train_test_split\n",
    "from catalyst.dl import SupervisedRunner\n",
    "from catalyst.contrib.dl.callbacks import WandbLogger\n",
    "from contextlib import contextmanager\n",
    "from catalyst.dl.callbacks import AccuracyCallback, F1ScoreCallback, OptimizerCallback\n",
    "#from pytorch_memlab import profile, MemReporter\n",
    "\n",
    "device = torch.device(\"cuda:0\" if torch.cuda.is_available() else \"cpu\")"
   ]
  },
  {
   "cell_type": "code",
   "execution_count": 2,
   "metadata": {
    "execution": {
     "iopub.execute_input": "2020-09-25T14:23:20.446993Z",
     "iopub.status.busy": "2020-09-25T14:23:20.444892Z",
     "iopub.status.idle": "2020-09-25T14:23:20.447781Z",
     "shell.execute_reply": "2020-09-25T14:23:20.448384Z"
    },
    "papermill": {
     "duration": 0.040742,
     "end_time": "2020-09-25T14:23:20.448539",
     "exception": false,
     "start_time": "2020-09-25T14:23:20.407797",
     "status": "completed"
    },
    "tags": []
   },
   "outputs": [],
   "source": [
    "def set_seed(seed: int):\n",
    "    random.seed(seed)\n",
    "    np.random.seed(seed)\n",
    "    os.environ[\"PYTHONHASHSEED\"] = str(seed)\n",
    "    torch.manual_seed(seed)\n",
    "    torch.cuda.manual_seed(seed)  # type: ignore\n",
    "    torch.backends.cudnn.deterministic = True  # type: ignore\n",
    "    torch.backends.cudnn.benchmark = True  # type: ignore"
   ]
  },
  {
   "cell_type": "code",
   "execution_count": 3,
   "metadata": {
    "execution": {
     "iopub.execute_input": "2020-09-25T14:23:20.499695Z",
     "iopub.status.busy": "2020-09-25T14:23:20.498826Z",
     "iopub.status.idle": "2020-09-25T14:23:20.505640Z",
     "shell.execute_reply": "2020-09-25T14:23:20.504971Z"
    },
    "papermill": {
     "duration": 0.034358,
     "end_time": "2020-09-25T14:23:20.505763",
     "exception": false,
     "start_time": "2020-09-25T14:23:20.471405",
     "status": "completed"
    },
    "tags": []
   },
   "outputs": [],
   "source": [
    "set_seed(2020)"
   ]
  },
  {
   "cell_type": "code",
   "execution_count": 4,
   "metadata": {
    "execution": {
     "iopub.execute_input": "2020-09-25T14:23:20.558551Z",
     "iopub.status.busy": "2020-09-25T14:23:20.557666Z",
     "iopub.status.idle": "2020-09-25T14:23:21.381922Z",
     "shell.execute_reply": "2020-09-25T14:23:21.381223Z"
    },
    "papermill": {
     "duration": 0.853296,
     "end_time": "2020-09-25T14:23:21.382061",
     "exception": false,
     "start_time": "2020-09-25T14:23:20.528765",
     "status": "completed"
    },
    "tags": []
   },
   "outputs": [],
   "source": [
    "test = pd.read_json('/kaggle/input/stanford-covid-vaccine/test.json', lines=True)\n",
    "samplesub= pd.read_csv('/kaggle/input/stanford-covid-vaccine/sample_submission.csv')"
   ]
  },
  {
   "cell_type": "code",
   "execution_count": 5,
   "metadata": {
    "execution": {
     "iopub.execute_input": "2020-09-25T14:23:21.437698Z",
     "iopub.status.busy": "2020-09-25T14:23:21.436943Z",
     "iopub.status.idle": "2020-09-25T14:23:27.500592Z",
     "shell.execute_reply": "2020-09-25T14:23:27.499614Z"
    },
    "papermill": {
     "duration": 6.0947,
     "end_time": "2020-09-25T14:23:27.500718",
     "exception": false,
     "start_time": "2020-09-25T14:23:21.406018",
     "status": "completed"
    },
    "tags": []
   },
   "outputs": [],
   "source": [
    "bpp_max=[]\n",
    "bpp_mean =[]\n",
    "\n",
    "id = test.id.values\n",
    "for i in id:\n",
    "    probability = np.load('../input/stanford-covid-vaccine'+'/bpps/%s.npy'%i)\n",
    "    bpp_max.append(probability.max(-1).tolist())\n",
    "    bpp_mean.append(probability.mean(-1).tolist())\n",
    "test['bpp_max']=bpp_max\n",
    "test['bpp_mean']=bpp_mean"
   ]
  },
  {
   "cell_type": "code",
   "execution_count": 6,
   "metadata": {
    "execution": {
     "iopub.execute_input": "2020-09-25T14:23:27.552459Z",
     "iopub.status.busy": "2020-09-25T14:23:27.551601Z",
     "iopub.status.idle": "2020-09-25T14:23:27.582872Z",
     "shell.execute_reply": "2020-09-25T14:23:27.581714Z"
    },
    "papermill": {
     "duration": 0.059364,
     "end_time": "2020-09-25T14:23:27.583001",
     "exception": false,
     "start_time": "2020-09-25T14:23:27.523637",
     "status": "completed"
    },
    "tags": []
   },
   "outputs": [],
   "source": [
    "test_public=test[test['seq_length']==107]\n",
    "test_private=test[test['seq_length']==130]"
   ]
  },
  {
   "cell_type": "code",
   "execution_count": 7,
   "metadata": {
    "execution": {
     "iopub.execute_input": "2020-09-25T14:23:27.642382Z",
     "iopub.status.busy": "2020-09-25T14:23:27.638718Z",
     "iopub.status.idle": "2020-09-25T14:23:27.648453Z",
     "shell.execute_reply": "2020-09-25T14:23:27.647868Z"
    },
    "papermill": {
     "duration": 0.042029,
     "end_time": "2020-09-25T14:23:27.648581",
     "exception": false,
     "start_time": "2020-09-25T14:23:27.606552",
     "status": "completed"
    },
    "tags": []
   },
   "outputs": [],
   "source": [
    "test_public_x=test_public.loc[:,['id','sequence','structure','predicted_loop_type','bpp_max','bpp_mean']]\n",
    "test_private_x=test_private.loc[:,['id','sequence','structure','predicted_loop_type','bpp_max','bpp_mean']]\n",
    "#CUDAに乗らないので、privateデータのサイズを小さくする。\n",
    "test_private_x1,test_private_x2=train_test_split(test_private_x,test_size=0.5)"
   ]
  },
  {
   "cell_type": "code",
   "execution_count": 8,
   "metadata": {
    "execution": {
     "iopub.execute_input": "2020-09-25T14:23:27.717208Z",
     "iopub.status.busy": "2020-09-25T14:23:27.716214Z",
     "iopub.status.idle": "2020-09-25T14:23:27.719148Z",
     "shell.execute_reply": "2020-09-25T14:23:27.719676Z"
    },
    "papermill": {
     "duration": 0.047939,
     "end_time": "2020-09-25T14:23:27.719826",
     "exception": false,
     "start_time": "2020-09-25T14:23:27.671887",
     "status": "completed"
    },
    "tags": []
   },
   "outputs": [],
   "source": [
    "token2int = {x:i for i, x in enumerate('().ACGUBEHIMSX')}\n",
    "def preprocess_inputs_public(df, cols=['sequence', 'structure', 'predicted_loop_type']):\n",
    "    base_fea= np.transpose(\n",
    "        np.array(\n",
    "            df[cols]\n",
    "            .applymap(lambda seq: [token2int[x] for x in seq])\n",
    "            .values\n",
    "            .tolist()\n",
    "        ),\n",
    "        (0, 2, 1)\n",
    "    )\n",
    "    bpps_max_fea = np.array(test_public_x['bpp_max'].to_list())[:,:,np.newaxis]\n",
    "    bpps_mean_fea = np.array(test_public_x['bpp_mean'].to_list())[:,:,np.newaxis]\n",
    "    return np.concatenate([base_fea,bpps_max_fea,bpps_mean_fea], 2)\n",
    "\n",
    "def preprocess_inputs_private1(df, cols=['sequence', 'structure', 'predicted_loop_type']):\n",
    "    base_fea= np.transpose(\n",
    "        np.array(\n",
    "            df[cols]\n",
    "            .applymap(lambda seq: [token2int[x] for x in seq])\n",
    "            .values\n",
    "            .tolist()\n",
    "        ),\n",
    "        (0, 2, 1)\n",
    "    )\n",
    "    bpps_max_fea = np.array(test_private_x1['bpp_max'].to_list())[:,:,np.newaxis]\n",
    "    bpps_mean_fea = np.array(test_private_x1['bpp_mean'].to_list())[:,:,np.newaxis]\n",
    "    return np.concatenate([base_fea,bpps_max_fea,bpps_mean_fea], 2)\n",
    "\n",
    "def preprocess_inputs_private2(df, cols=['sequence', 'structure', 'predicted_loop_type']):\n",
    "    base_fea= np.transpose(\n",
    "        np.array(\n",
    "            df[cols]\n",
    "            .applymap(lambda seq: [token2int[x] for x in seq])\n",
    "            .values\n",
    "            .tolist()\n",
    "        ),\n",
    "        (0, 2, 1)\n",
    "    )\n",
    "    bpps_max_fea = np.array(test_private_x2['bpp_max'].to_list())[:,:,np.newaxis]\n",
    "    bpps_mean_fea = np.array(test_private_x2['bpp_mean'].to_list())[:,:,np.newaxis]\n",
    "    return np.concatenate([base_fea,bpps_max_fea,bpps_mean_fea], 2)"
   ]
  },
  {
   "cell_type": "code",
   "execution_count": 9,
   "metadata": {
    "execution": {
     "iopub.execute_input": "2020-09-25T14:23:27.774964Z",
     "iopub.status.busy": "2020-09-25T14:23:27.774182Z",
     "iopub.status.idle": "2020-09-25T14:23:35.463575Z",
     "shell.execute_reply": "2020-09-25T14:23:35.462235Z"
    },
    "papermill": {
     "duration": 7.720353,
     "end_time": "2020-09-25T14:23:35.463724",
     "exception": false,
     "start_time": "2020-09-25T14:23:27.743371",
     "status": "completed"
    },
    "tags": []
   },
   "outputs": [],
   "source": [
    "test_public_inputs = torch.from_numpy(preprocess_inputs_public(test_public_x)).to(device).float()\n",
    "test_private_inputs1 = torch.from_numpy(preprocess_inputs_private1(test_private_x1)).to(device).float()\n",
    "test_private_inputs2 = torch.from_numpy(preprocess_inputs_private2(test_private_x2)).to(device).float()"
   ]
  },
  {
   "cell_type": "code",
   "execution_count": 10,
   "metadata": {
    "execution": {
     "iopub.execute_input": "2020-09-25T14:23:35.519687Z",
     "iopub.status.busy": "2020-09-25T14:23:35.518228Z",
     "iopub.status.idle": "2020-09-25T14:23:35.520461Z",
     "shell.execute_reply": "2020-09-25T14:23:35.521007Z"
    },
    "papermill": {
     "duration": 0.032815,
     "end_time": "2020-09-25T14:23:35.521158",
     "exception": false,
     "start_time": "2020-09-25T14:23:35.488343",
     "status": "completed"
    },
    "tags": []
   },
   "outputs": [],
   "source": [
    "#print('train_入力：{}\\nvalue_入力：{}\\ntrain_ラベル：{}\\nvalue_ラベル：{}'.format(train_inputs.shape,val_inputs.shape,train_outputs.shape,val_outputs.shape))"
   ]
  },
  {
   "cell_type": "code",
   "execution_count": 11,
   "metadata": {
    "execution": {
     "iopub.execute_input": "2020-09-25T14:23:35.584374Z",
     "iopub.status.busy": "2020-09-25T14:23:35.583372Z",
     "iopub.status.idle": "2020-09-25T14:23:35.587406Z",
     "shell.execute_reply": "2020-09-25T14:23:35.586778Z"
    },
    "papermill": {
     "duration": 0.042746,
     "end_time": "2020-09-25T14:23:35.587526",
     "exception": false,
     "start_time": "2020-09-25T14:23:35.544780",
     "status": "completed"
    },
    "tags": []
   },
   "outputs": [],
   "source": [
    "class LSTM_model(nn.Module):\n",
    "    def __init__(\n",
    "        self, seq_len=107, pred_len=68, dropout=0.5, embed_dim=100, hidden_dim=1024, hidden_layers=2\n",
    "    ):\n",
    "        super(LSTM_model, self).__init__()\n",
    "        self.pred_len = pred_len\n",
    "\n",
    "        self.embeding = nn.Embedding(num_embeddings=len(token2int), embedding_dim=embed_dim)\n",
    "        self.lstm = nn.LSTM(\n",
    "            input_size=embed_dim * 3+2,\n",
    "            hidden_size=hidden_dim,\n",
    "            num_layers=hidden_layers,\n",
    "            dropout=dropout,\n",
    "            bidirectional=True,\n",
    "            batch_first=True,\n",
    "        )\n",
    "        self.linear = nn.Linear(hidden_dim * 2, 5)\n",
    "        \n",
    "\n",
    "    def forward(self, seqs):\n",
    "        embed = self.embeding(seqs[:,:,0:3].long())\n",
    "        reshaped = torch.reshape(embed, (-1, embed.shape[1], embed.shape[2] * embed.shape[3]))\n",
    "        reshaped= torch.cat((reshaped,seqs[:,:,3:5]),2)\n",
    "        output, hidden = self.lstm(reshaped)\n",
    "        truncated = output[:, : self.pred_len, :]\n",
    "        out = self.linear(truncated)\n",
    "        return out"
   ]
  },
  {
   "cell_type": "code",
   "execution_count": 12,
   "metadata": {
    "execution": {
     "iopub.execute_input": "2020-09-25T14:23:35.663271Z",
     "iopub.status.busy": "2020-09-25T14:23:35.660949Z",
     "iopub.status.idle": "2020-09-25T14:23:35.664043Z",
     "shell.execute_reply": "2020-09-25T14:23:35.664572Z"
    },
    "papermill": {
     "duration": 0.052797,
     "end_time": "2020-09-25T14:23:35.664731",
     "exception": false,
     "start_time": "2020-09-25T14:23:35.611934",
     "status": "completed"
    },
    "tags": []
   },
   "outputs": [],
   "source": [
    "class GRU_model(nn.Module):\n",
    "    def __init__(\n",
    "        self, seq_len=107, pred_len=68, dropout=0.5, embed_dim=100, hidden_dim=1024, hidden_layers=2\n",
    "    ):\n",
    "        super(GRU_model, self).__init__()\n",
    "        self.pred_len = pred_len\n",
    "\n",
    "        self.embeding = nn.Embedding(num_embeddings=len(token2int), embedding_dim=embed_dim)\n",
    "        self.gru = nn.GRU(\n",
    "            input_size=embed_dim * 3+2,\n",
    "            hidden_size=hidden_dim,\n",
    "            num_layers=hidden_layers,\n",
    "            dropout=dropout,\n",
    "            bidirectional=True,\n",
    "            batch_first=True,\n",
    "        )\n",
    "        self.linear = nn.Linear(hidden_dim * 2, 5)\n",
    "\n",
    "    def forward(self, seqs):\n",
    "        embed = self.embeding(seqs[:,:,0:3].long())\n",
    "        reshaped = torch.reshape(embed, (-1, embed.shape[1], embed.shape[2] * embed.shape[3]))\n",
    "        reshaped= torch.cat((reshaped,seqs[:,:,3:5]),2)\n",
    "        output, hidden = self.gru(reshaped)\n",
    "        truncated = output[:, : self.pred_len, :]\n",
    "        out = self.linear(truncated)\n",
    "        return out"
   ]
  },
  {
   "cell_type": "code",
   "execution_count": 13,
   "metadata": {
    "execution": {
     "iopub.execute_input": "2020-09-25T14:23:35.721514Z",
     "iopub.status.busy": "2020-09-25T14:23:35.720735Z",
     "iopub.status.idle": "2020-09-25T14:23:35.725108Z",
     "shell.execute_reply": "2020-09-25T14:23:35.725877Z"
    },
    "papermill": {
     "duration": 0.036594,
     "end_time": "2020-09-25T14:23:35.726026",
     "exception": false,
     "start_time": "2020-09-25T14:23:35.689432",
     "status": "completed"
    },
    "tags": []
   },
   "outputs": [],
   "source": [
    "LSTM_weights_path='../input/weight11/LSTM_ver20.pth'\n",
    "\n",
    "def get_LSTM_model(seq_len=107, pred_len=68):\n",
    "    model = LSTM_model(seq_len=seq_len, pred_len=pred_len)\n",
    "    checkpoint = torch.load(LSTM_weights_path)\n",
    "    model.load_state_dict(checkpoint[\"model_state_dict\"])\n",
    "    device = torch.device(\"cuda\")\n",
    "    model.to(device)\n",
    "    model.eval()\n",
    "    return model"
   ]
  },
  {
   "cell_type": "code",
   "execution_count": 14,
   "metadata": {
    "execution": {
     "iopub.execute_input": "2020-09-25T14:23:35.782485Z",
     "iopub.status.busy": "2020-09-25T14:23:35.781626Z",
     "iopub.status.idle": "2020-09-25T14:23:35.785865Z",
     "shell.execute_reply": "2020-09-25T14:23:35.785274Z"
    },
    "papermill": {
     "duration": 0.035703,
     "end_time": "2020-09-25T14:23:35.785976",
     "exception": false,
     "start_time": "2020-09-25T14:23:35.750273",
     "status": "completed"
    },
    "tags": []
   },
   "outputs": [],
   "source": [
    "GRU_weights_path='../input/weight11/GRU_ver8'\n",
    "\n",
    "def get_GRU_model(seq_len=107, pred_len=68):\n",
    "    model = GRU_model(seq_len=seq_len, pred_len=pred_len)\n",
    "    checkpoint = torch.load(GRU_weights_path)\n",
    "    model.load_state_dict(checkpoint[\"model_state_dict\"])\n",
    "    device = torch.device(\"cuda\")\n",
    "    model.to(device)\n",
    "    model.eval()\n",
    "    return model"
   ]
  },
  {
   "cell_type": "code",
   "execution_count": 15,
   "metadata": {
    "execution": {
     "iopub.execute_input": "2020-09-25T14:23:35.852848Z",
     "iopub.status.busy": "2020-09-25T14:23:35.851956Z",
     "iopub.status.idle": "2020-09-25T14:23:43.846396Z",
     "shell.execute_reply": "2020-09-25T14:23:43.847603Z"
    },
    "papermill": {
     "duration": 8.037284,
     "end_time": "2020-09-25T14:23:43.847820",
     "exception": false,
     "start_time": "2020-09-25T14:23:35.810536",
     "status": "completed"
    },
    "tags": []
   },
   "outputs": [],
   "source": [
    "with torch.no_grad():\n",
    "    model =get_LSTM_model()\n",
    "    prediction=model(test_public_inputs)\n",
    "    result_public_LSTM=prediction.to('cpu').detach().numpy().copy()\n",
    "del prediction\n",
    "\n",
    "with torch.no_grad():\n",
    "    model =get_LSTM_model(seq_len=130, pred_len=91)\n",
    "    prediction=model(test_private_inputs1)\n",
    "    result_private1_LSTM=prediction.to('cpu').detach().numpy().copy()\n",
    "del prediction\n",
    "\n",
    "with torch.no_grad():\n",
    "    model =get_LSTM_model(seq_len=130, pred_len=91)\n",
    "    prediction=model(test_private_inputs2)\n",
    "    result_private2_LSTM=prediction.to('cpu').detach().numpy().copy()\n",
    "del prediction"
   ]
  },
  {
   "cell_type": "code",
   "execution_count": 16,
   "metadata": {
    "execution": {
     "iopub.execute_input": "2020-09-25T14:23:43.935341Z",
     "iopub.status.busy": "2020-09-25T14:23:43.932989Z",
     "iopub.status.idle": "2020-09-25T14:23:44.885114Z",
     "shell.execute_reply": "2020-09-25T14:23:44.886208Z"
    },
    "papermill": {
     "duration": 0.999295,
     "end_time": "2020-09-25T14:23:44.886411",
     "exception": false,
     "start_time": "2020-09-25T14:23:43.887116",
     "status": "completed"
    },
    "tags": []
   },
   "outputs": [
    {
     "ename": "FileNotFoundError",
     "evalue": "[Errno 2] No such file or directory: '../input/weight11/GRU_ver8'",
     "output_type": "error",
     "traceback": [
      "\u001b[0;31m---------------------------------------------------------------------------\u001b[0m",
      "\u001b[0;31mFileNotFoundError\u001b[0m                         Traceback (most recent call last)",
      "\u001b[0;32m<ipython-input-16-d8e6cfbbee34>\u001b[0m in \u001b[0;36m<module>\u001b[0;34m\u001b[0m\n\u001b[1;32m      1\u001b[0m \u001b[0;32mwith\u001b[0m \u001b[0mtorch\u001b[0m\u001b[0;34m.\u001b[0m\u001b[0mno_grad\u001b[0m\u001b[0;34m(\u001b[0m\u001b[0;34m)\u001b[0m\u001b[0;34m:\u001b[0m\u001b[0;34m\u001b[0m\u001b[0;34m\u001b[0m\u001b[0m\n\u001b[0;32m----> 2\u001b[0;31m     \u001b[0mmodel\u001b[0m \u001b[0;34m=\u001b[0m\u001b[0mget_GRU_model\u001b[0m\u001b[0;34m(\u001b[0m\u001b[0;34m)\u001b[0m\u001b[0;34m\u001b[0m\u001b[0;34m\u001b[0m\u001b[0m\n\u001b[0m\u001b[1;32m      3\u001b[0m     \u001b[0mprediction\u001b[0m\u001b[0;34m=\u001b[0m\u001b[0mmodel\u001b[0m\u001b[0;34m(\u001b[0m\u001b[0mtest_public_inputs\u001b[0m\u001b[0;34m)\u001b[0m\u001b[0;34m\u001b[0m\u001b[0;34m\u001b[0m\u001b[0m\n\u001b[1;32m      4\u001b[0m     \u001b[0mresult_public_GRU\u001b[0m\u001b[0;34m=\u001b[0m\u001b[0mprediction\u001b[0m\u001b[0;34m.\u001b[0m\u001b[0mto\u001b[0m\u001b[0;34m(\u001b[0m\u001b[0;34m'cpu'\u001b[0m\u001b[0;34m)\u001b[0m\u001b[0;34m.\u001b[0m\u001b[0mdetach\u001b[0m\u001b[0;34m(\u001b[0m\u001b[0;34m)\u001b[0m\u001b[0;34m.\u001b[0m\u001b[0mnumpy\u001b[0m\u001b[0;34m(\u001b[0m\u001b[0;34m)\u001b[0m\u001b[0;34m.\u001b[0m\u001b[0mcopy\u001b[0m\u001b[0;34m(\u001b[0m\u001b[0;34m)\u001b[0m\u001b[0;34m\u001b[0m\u001b[0;34m\u001b[0m\u001b[0m\n\u001b[1;32m      5\u001b[0m \u001b[0;32mdel\u001b[0m \u001b[0mprediction\u001b[0m\u001b[0;34m\u001b[0m\u001b[0;34m\u001b[0m\u001b[0m\n",
      "\u001b[0;32m<ipython-input-14-b8b2b065d42a>\u001b[0m in \u001b[0;36mget_GRU_model\u001b[0;34m(seq_len, pred_len)\u001b[0m\n\u001b[1;32m      3\u001b[0m \u001b[0;32mdef\u001b[0m \u001b[0mget_GRU_model\u001b[0m\u001b[0;34m(\u001b[0m\u001b[0mseq_len\u001b[0m\u001b[0;34m=\u001b[0m\u001b[0;36m107\u001b[0m\u001b[0;34m,\u001b[0m \u001b[0mpred_len\u001b[0m\u001b[0;34m=\u001b[0m\u001b[0;36m68\u001b[0m\u001b[0;34m)\u001b[0m\u001b[0;34m:\u001b[0m\u001b[0;34m\u001b[0m\u001b[0;34m\u001b[0m\u001b[0m\n\u001b[1;32m      4\u001b[0m     \u001b[0mmodel\u001b[0m \u001b[0;34m=\u001b[0m \u001b[0mGRU_model\u001b[0m\u001b[0;34m(\u001b[0m\u001b[0mseq_len\u001b[0m\u001b[0;34m=\u001b[0m\u001b[0mseq_len\u001b[0m\u001b[0;34m,\u001b[0m \u001b[0mpred_len\u001b[0m\u001b[0;34m=\u001b[0m\u001b[0mpred_len\u001b[0m\u001b[0;34m)\u001b[0m\u001b[0;34m\u001b[0m\u001b[0;34m\u001b[0m\u001b[0m\n\u001b[0;32m----> 5\u001b[0;31m     \u001b[0mcheckpoint\u001b[0m \u001b[0;34m=\u001b[0m \u001b[0mtorch\u001b[0m\u001b[0;34m.\u001b[0m\u001b[0mload\u001b[0m\u001b[0;34m(\u001b[0m\u001b[0mGRU_weights_path\u001b[0m\u001b[0;34m)\u001b[0m\u001b[0;34m\u001b[0m\u001b[0;34m\u001b[0m\u001b[0m\n\u001b[0m\u001b[1;32m      6\u001b[0m     \u001b[0mmodel\u001b[0m\u001b[0;34m.\u001b[0m\u001b[0mload_state_dict\u001b[0m\u001b[0;34m(\u001b[0m\u001b[0mcheckpoint\u001b[0m\u001b[0;34m[\u001b[0m\u001b[0;34m\"model_state_dict\"\u001b[0m\u001b[0;34m]\u001b[0m\u001b[0;34m)\u001b[0m\u001b[0;34m\u001b[0m\u001b[0;34m\u001b[0m\u001b[0m\n\u001b[1;32m      7\u001b[0m     \u001b[0mdevice\u001b[0m \u001b[0;34m=\u001b[0m \u001b[0mtorch\u001b[0m\u001b[0;34m.\u001b[0m\u001b[0mdevice\u001b[0m\u001b[0;34m(\u001b[0m\u001b[0;34m\"cuda\"\u001b[0m\u001b[0;34m)\u001b[0m\u001b[0;34m\u001b[0m\u001b[0;34m\u001b[0m\u001b[0m\n",
      "\u001b[0;32m/opt/conda/lib/python3.7/site-packages/torch/serialization.py\u001b[0m in \u001b[0;36mload\u001b[0;34m(f, map_location, pickle_module, **pickle_load_args)\u001b[0m\n\u001b[1;32m    582\u001b[0m         \u001b[0mpickle_load_args\u001b[0m\u001b[0;34m[\u001b[0m\u001b[0;34m'encoding'\u001b[0m\u001b[0;34m]\u001b[0m \u001b[0;34m=\u001b[0m \u001b[0;34m'utf-8'\u001b[0m\u001b[0;34m\u001b[0m\u001b[0;34m\u001b[0m\u001b[0m\n\u001b[1;32m    583\u001b[0m \u001b[0;34m\u001b[0m\u001b[0m\n\u001b[0;32m--> 584\u001b[0;31m     \u001b[0;32mwith\u001b[0m \u001b[0m_open_file_like\u001b[0m\u001b[0;34m(\u001b[0m\u001b[0mf\u001b[0m\u001b[0;34m,\u001b[0m \u001b[0;34m'rb'\u001b[0m\u001b[0;34m)\u001b[0m \u001b[0;32mas\u001b[0m \u001b[0mopened_file\u001b[0m\u001b[0;34m:\u001b[0m\u001b[0;34m\u001b[0m\u001b[0;34m\u001b[0m\u001b[0m\n\u001b[0m\u001b[1;32m    585\u001b[0m         \u001b[0;32mif\u001b[0m \u001b[0m_is_zipfile\u001b[0m\u001b[0;34m(\u001b[0m\u001b[0mopened_file\u001b[0m\u001b[0;34m)\u001b[0m\u001b[0;34m:\u001b[0m\u001b[0;34m\u001b[0m\u001b[0;34m\u001b[0m\u001b[0m\n\u001b[1;32m    586\u001b[0m             \u001b[0;32mwith\u001b[0m \u001b[0m_open_zipfile_reader\u001b[0m\u001b[0;34m(\u001b[0m\u001b[0mf\u001b[0m\u001b[0;34m)\u001b[0m \u001b[0;32mas\u001b[0m \u001b[0mopened_zipfile\u001b[0m\u001b[0;34m:\u001b[0m\u001b[0;34m\u001b[0m\u001b[0;34m\u001b[0m\u001b[0m\n",
      "\u001b[0;32m/opt/conda/lib/python3.7/site-packages/torch/serialization.py\u001b[0m in \u001b[0;36m_open_file_like\u001b[0;34m(name_or_buffer, mode)\u001b[0m\n\u001b[1;32m    232\u001b[0m \u001b[0;32mdef\u001b[0m \u001b[0m_open_file_like\u001b[0m\u001b[0;34m(\u001b[0m\u001b[0mname_or_buffer\u001b[0m\u001b[0;34m,\u001b[0m \u001b[0mmode\u001b[0m\u001b[0;34m)\u001b[0m\u001b[0;34m:\u001b[0m\u001b[0;34m\u001b[0m\u001b[0;34m\u001b[0m\u001b[0m\n\u001b[1;32m    233\u001b[0m     \u001b[0;32mif\u001b[0m \u001b[0m_is_path\u001b[0m\u001b[0;34m(\u001b[0m\u001b[0mname_or_buffer\u001b[0m\u001b[0;34m)\u001b[0m\u001b[0;34m:\u001b[0m\u001b[0;34m\u001b[0m\u001b[0;34m\u001b[0m\u001b[0m\n\u001b[0;32m--> 234\u001b[0;31m         \u001b[0;32mreturn\u001b[0m \u001b[0m_open_file\u001b[0m\u001b[0;34m(\u001b[0m\u001b[0mname_or_buffer\u001b[0m\u001b[0;34m,\u001b[0m \u001b[0mmode\u001b[0m\u001b[0;34m)\u001b[0m\u001b[0;34m\u001b[0m\u001b[0;34m\u001b[0m\u001b[0m\n\u001b[0m\u001b[1;32m    235\u001b[0m     \u001b[0;32melse\u001b[0m\u001b[0;34m:\u001b[0m\u001b[0;34m\u001b[0m\u001b[0;34m\u001b[0m\u001b[0m\n\u001b[1;32m    236\u001b[0m         \u001b[0;32mif\u001b[0m \u001b[0;34m'w'\u001b[0m \u001b[0;32min\u001b[0m \u001b[0mmode\u001b[0m\u001b[0;34m:\u001b[0m\u001b[0;34m\u001b[0m\u001b[0;34m\u001b[0m\u001b[0m\n",
      "\u001b[0;32m/opt/conda/lib/python3.7/site-packages/torch/serialization.py\u001b[0m in \u001b[0;36m__init__\u001b[0;34m(self, name, mode)\u001b[0m\n\u001b[1;32m    213\u001b[0m \u001b[0;32mclass\u001b[0m \u001b[0m_open_file\u001b[0m\u001b[0;34m(\u001b[0m\u001b[0m_opener\u001b[0m\u001b[0;34m)\u001b[0m\u001b[0;34m:\u001b[0m\u001b[0;34m\u001b[0m\u001b[0;34m\u001b[0m\u001b[0m\n\u001b[1;32m    214\u001b[0m     \u001b[0;32mdef\u001b[0m \u001b[0m__init__\u001b[0m\u001b[0;34m(\u001b[0m\u001b[0mself\u001b[0m\u001b[0;34m,\u001b[0m \u001b[0mname\u001b[0m\u001b[0;34m,\u001b[0m \u001b[0mmode\u001b[0m\u001b[0;34m)\u001b[0m\u001b[0;34m:\u001b[0m\u001b[0;34m\u001b[0m\u001b[0;34m\u001b[0m\u001b[0m\n\u001b[0;32m--> 215\u001b[0;31m         \u001b[0msuper\u001b[0m\u001b[0;34m(\u001b[0m\u001b[0m_open_file\u001b[0m\u001b[0;34m,\u001b[0m \u001b[0mself\u001b[0m\u001b[0;34m)\u001b[0m\u001b[0;34m.\u001b[0m\u001b[0m__init__\u001b[0m\u001b[0;34m(\u001b[0m\u001b[0mopen\u001b[0m\u001b[0;34m(\u001b[0m\u001b[0mname\u001b[0m\u001b[0;34m,\u001b[0m \u001b[0mmode\u001b[0m\u001b[0;34m)\u001b[0m\u001b[0;34m)\u001b[0m\u001b[0;34m\u001b[0m\u001b[0;34m\u001b[0m\u001b[0m\n\u001b[0m\u001b[1;32m    216\u001b[0m \u001b[0;34m\u001b[0m\u001b[0m\n\u001b[1;32m    217\u001b[0m     \u001b[0;32mdef\u001b[0m \u001b[0m__exit__\u001b[0m\u001b[0;34m(\u001b[0m\u001b[0mself\u001b[0m\u001b[0;34m,\u001b[0m \u001b[0;34m*\u001b[0m\u001b[0margs\u001b[0m\u001b[0;34m)\u001b[0m\u001b[0;34m:\u001b[0m\u001b[0;34m\u001b[0m\u001b[0;34m\u001b[0m\u001b[0m\n",
      "\u001b[0;31mFileNotFoundError\u001b[0m: [Errno 2] No such file or directory: '../input/weight11/GRU_ver8'"
     ]
    }
   ],
   "source": [
    "with torch.no_grad():\n",
    "    model =get_GRU_model()\n",
    "    prediction=model(test_public_inputs)\n",
    "    result_public_GRU=prediction.to('cpu').detach().numpy().copy()\n",
    "del prediction\n",
    "\n",
    "with torch.no_grad():\n",
    "    model =get_GRU_model(seq_len=130, pred_len=91)\n",
    "    prediction=model(test_private_inputs1)\n",
    "    result_private1_GRU=prediction.to('cpu').detach().numpy().copy()\n",
    "del prediction\n",
    "\n",
    "with torch.no_grad():\n",
    "    model =get_GRU_model(seq_len=130, pred_len=91)\n",
    "    prediction=model(test_private_inputs2)\n",
    "    result_private2_GRU=prediction.to('cpu').detach().numpy().copy()\n",
    "del prediction"
   ]
  },
  {
   "cell_type": "code",
   "execution_count": 17,
   "metadata": {
    "execution": {
     "iopub.execute_input": "2020-09-25T14:23:44.950901Z",
     "iopub.status.busy": "2020-09-25T14:23:44.948797Z",
     "iopub.status.idle": "2020-09-25T14:23:44.951769Z",
     "shell.execute_reply": "2020-09-25T14:23:44.952326Z"
    },
    "papermill": {
     "duration": 0.040087,
     "end_time": "2020-09-25T14:23:44.952468",
     "exception": false,
     "start_time": "2020-09-25T14:23:44.912381",
     "status": "completed"
    },
    "tags": []
   },
   "outputs": [],
   "source": [
    "df0 = pd.DataFrame(index=range(39), columns=['reactivity', 'deg_Mg_pH10', 'deg_pH10','deg_Mg_50C','deg_50C',])\n",
    "df0=df0.fillna(0)"
   ]
  },
  {
   "cell_type": "code",
   "execution_count": 18,
   "metadata": {
    "execution": {
     "iopub.execute_input": "2020-09-25T14:23:45.010020Z",
     "iopub.status.busy": "2020-09-25T14:23:45.009112Z",
     "iopub.status.idle": "2020-09-25T14:23:45.013535Z",
     "shell.execute_reply": "2020-09-25T14:23:45.012957Z"
    },
    "papermill": {
     "duration": 0.035227,
     "end_time": "2020-09-25T14:23:45.013657",
     "exception": false,
     "start_time": "2020-09-25T14:23:44.978430",
     "status": "completed"
    },
    "tags": []
   },
   "outputs": [],
   "source": [
    "test_public_id=test_public['id']\n",
    "idlist_public=test_public_id.values.tolist()"
   ]
  },
  {
   "cell_type": "code",
   "execution_count": 19,
   "metadata": {
    "execution": {
     "iopub.execute_input": "2020-09-25T14:23:45.074123Z",
     "iopub.status.busy": "2020-09-25T14:23:45.073108Z",
     "iopub.status.idle": "2020-09-25T14:23:45.078733Z",
     "shell.execute_reply": "2020-09-25T14:23:45.078015Z"
    },
    "papermill": {
     "duration": 0.039312,
     "end_time": "2020-09-25T14:23:45.078862",
     "exception": false,
     "start_time": "2020-09-25T14:23:45.039550",
     "status": "completed"
    },
    "tags": []
   },
   "outputs": [
    {
     "data": {
      "text/plain": [
       "['id_8971ccdd7',\n",
       " 'id_b32efe88a',\n",
       " 'id_e238f0fae',\n",
       " 'id_2077733c4',\n",
       " 'id_455955004']"
      ]
     },
     "execution_count": 19,
     "metadata": {},
     "output_type": "execute_result"
    }
   ],
   "source": [
    "test_private_id1=test_private_x1['id']\n",
    "idlist_private1=test_private_id1.values.tolist()\n",
    "idlist_private1[-5:]"
   ]
  },
  {
   "cell_type": "code",
   "execution_count": 20,
   "metadata": {
    "execution": {
     "iopub.execute_input": "2020-09-25T14:23:45.140128Z",
     "iopub.status.busy": "2020-09-25T14:23:45.139138Z",
     "iopub.status.idle": "2020-09-25T14:23:45.144016Z",
     "shell.execute_reply": "2020-09-25T14:23:45.144681Z"
    },
    "papermill": {
     "duration": 0.037897,
     "end_time": "2020-09-25T14:23:45.144819",
     "exception": false,
     "start_time": "2020-09-25T14:23:45.106922",
     "status": "completed"
    },
    "tags": []
   },
   "outputs": [
    {
     "data": {
      "text/plain": [
       "['id_998226e97',\n",
       " 'id_dc1b01043',\n",
       " 'id_9e5f8cf1c',\n",
       " 'id_413606099',\n",
       " 'id_f6434dfe9']"
      ]
     },
     "execution_count": 20,
     "metadata": {},
     "output_type": "execute_result"
    }
   ],
   "source": [
    "test_private_id2=test_private_x2['id']\n",
    "idlist_private2=test_private_id2.values.tolist()\n",
    "idlist_private2[:5]"
   ]
  },
  {
   "cell_type": "code",
   "execution_count": 21,
   "metadata": {
    "execution": {
     "iopub.execute_input": "2020-09-25T14:23:45.206275Z",
     "iopub.status.busy": "2020-09-25T14:23:45.205221Z",
     "iopub.status.idle": "2020-09-25T14:23:45.224555Z",
     "shell.execute_reply": "2020-09-25T14:23:45.223959Z"
    },
    "papermill": {
     "duration": 0.05292,
     "end_time": "2020-09-25T14:23:45.224688",
     "exception": false,
     "start_time": "2020-09-25T14:23:45.171768",
     "status": "completed"
    },
    "tags": []
   },
   "outputs": [],
   "source": [
    "#無理やりソートすることに\n",
    "testindex=samplesub.loc[:,['id_seqpos']]\n",
    "testindex=testindex.reset_index()"
   ]
  },
  {
   "cell_type": "code",
   "execution_count": 22,
   "metadata": {
    "execution": {
     "iopub.execute_input": "2020-09-25T14:23:45.317763Z",
     "iopub.status.busy": "2020-09-25T14:23:45.304659Z",
     "iopub.status.idle": "2020-09-25T14:26:09.126605Z",
     "shell.execute_reply": "2020-09-25T14:26:09.125430Z"
    },
    "papermill": {
     "duration": 143.874123,
     "end_time": "2020-09-25T14:26:09.126763",
     "exception": false,
     "start_time": "2020-09-25T14:23:45.252640",
     "status": "completed"
    },
    "tags": []
   },
   "outputs": [],
   "source": [
    "df1 = pd.DataFrame(result_public_LSTM[0])\n",
    "df1.columns = ['reactivity', 'deg_Mg_pH10', 'deg_pH10','deg_Mg_50C','deg_50C',]\n",
    "df1.insert(0, 'id_seqpos', 0)\n",
    "df1=pd.concat([df1,df0])\n",
    "id=idlist_public[0]\n",
    "for i in range(len(df1)):\n",
    "    df1.iloc[i,0]=id+'_{}'.format(i)\n",
    "for j in range (len(result_public_LSTM)-1):\n",
    "    id = idlist_public[j+1]\n",
    "    df2 = pd.DataFrame(result_public_LSTM[j+1])\n",
    "    df2.columns = ['reactivity', 'deg_Mg_pH10', 'deg_pH10','deg_Mg_50C','deg_50C',]\n",
    "    df2.insert(0, 'id_seqpos', 0)\n",
    "    df2=pd.concat([df2,df0]) \n",
    "    for i in range(len(df2)):\n",
    "        df2.iloc[i,0]=id+'_{}'.format(i)\n",
    "    df1=pd.concat([df1,df2])\n",
    "public_dataframe=df1\n",
    "\n",
    "df1 = pd.DataFrame(result_private1_LSTM[0])\n",
    "df1.columns = ['reactivity', 'deg_Mg_pH10', 'deg_pH10','deg_Mg_50C','deg_50C',]\n",
    "df1.insert(0, 'id_seqpos', 0)\n",
    "df1=pd.concat([df1,df0])\n",
    "id=idlist_private1[0]\n",
    "for i in range(len(df1)):\n",
    "    df1.iloc[i,0]=id+'_{}'.format(i)\n",
    "for j in range (len(result_private1_LSTM)-1):\n",
    "    id = idlist_private1[j+1]\n",
    "    df2 = pd.DataFrame(result_private1_LSTM[j+1])\n",
    "    df2.columns = ['reactivity', 'deg_Mg_pH10', 'deg_pH10','deg_Mg_50C','deg_50C',]\n",
    "    df2.insert(0, 'id_seqpos', 0)\n",
    "    df2=pd.concat([df2,df0])\n",
    "    for i in range(len(df2)):\n",
    "        df2.iloc[i,0]=id+'_{}'.format(i)\n",
    "    df1=pd.concat([df1,df2])\n",
    "private_dataframe1=df1\n",
    "\n",
    "df1 = pd.DataFrame(result_private2_LSTM[0])\n",
    "df1.columns = ['reactivity', 'deg_Mg_pH10', 'deg_pH10','deg_Mg_50C','deg_50C',]\n",
    "df1.insert(0, 'id_seqpos', 0)\n",
    "df1=pd.concat([df1,df0])\n",
    "id=idlist_private2[0]\n",
    "for i in range(len(df1)):\n",
    "    df1.iloc[i,0]=id+'_{}'.format(i)\n",
    "for j in range (len(result_private2_LSTM)-1):\n",
    "    id = idlist_private2[j+1]\n",
    "    df2 = pd.DataFrame(result_private2_LSTM[j+1])\n",
    "    df2.columns = ['reactivity', 'deg_Mg_pH10', 'deg_pH10','deg_Mg_50C','deg_50C',]\n",
    "    df2.insert(0, 'id_seqpos', 0)\n",
    "    df2=pd.concat([df2,df0])\n",
    "    for i in range(len(df2)):\n",
    "        df2.iloc[i,0]=id+'_{}'.format(i)\n",
    "    df1=pd.concat([df1,df2])\n",
    "private_dataframe2=df1"
   ]
  },
  {
   "cell_type": "code",
   "execution_count": 23,
   "metadata": {
    "execution": {
     "iopub.execute_input": "2020-09-25T14:26:09.189764Z",
     "iopub.status.busy": "2020-09-25T14:26:09.188679Z",
     "iopub.status.idle": "2020-09-25T14:26:09.847517Z",
     "shell.execute_reply": "2020-09-25T14:26:09.846889Z"
    },
    "papermill": {
     "duration": 0.692869,
     "end_time": "2020-09-25T14:26:09.847662",
     "exception": false,
     "start_time": "2020-09-25T14:26:09.154793",
     "status": "completed"
    },
    "tags": []
   },
   "outputs": [],
   "source": [
    "merged_dataframe=pd.concat([public_dataframe,private_dataframe1,private_dataframe2])\n",
    "\n",
    "pre_submission_LSTM=pd.merge(testindex,merged_dataframe)"
   ]
  },
  {
   "cell_type": "code",
   "execution_count": 24,
   "metadata": {
    "execution": {
     "iopub.execute_input": "2020-09-25T14:26:09.918354Z",
     "iopub.status.busy": "2020-09-25T14:26:09.917467Z",
     "iopub.status.idle": "2020-09-25T14:26:09.932697Z",
     "shell.execute_reply": "2020-09-25T14:26:09.933339Z"
    },
    "papermill": {
     "duration": 0.058,
     "end_time": "2020-09-25T14:26:09.933503",
     "exception": false,
     "start_time": "2020-09-25T14:26:09.875503",
     "status": "completed"
    },
    "tags": []
   },
   "outputs": [
    {
     "data": {
      "text/html": [
       "<div>\n",
       "<style scoped>\n",
       "    .dataframe tbody tr th:only-of-type {\n",
       "        vertical-align: middle;\n",
       "    }\n",
       "\n",
       "    .dataframe tbody tr th {\n",
       "        vertical-align: top;\n",
       "    }\n",
       "\n",
       "    .dataframe thead th {\n",
       "        text-align: right;\n",
       "    }\n",
       "</style>\n",
       "<table border=\"1\" class=\"dataframe\">\n",
       "  <thead>\n",
       "    <tr style=\"text-align: right;\">\n",
       "      <th></th>\n",
       "      <th>index</th>\n",
       "      <th>id_seqpos</th>\n",
       "      <th>reactivity</th>\n",
       "      <th>deg_Mg_pH10</th>\n",
       "      <th>deg_pH10</th>\n",
       "      <th>deg_Mg_50C</th>\n",
       "      <th>deg_50C</th>\n",
       "    </tr>\n",
       "  </thead>\n",
       "  <tbody>\n",
       "    <tr>\n",
       "      <th>0</th>\n",
       "      <td>0</td>\n",
       "      <td>id_00073f8be_0</td>\n",
       "      <td>0.904347</td>\n",
       "      <td>0.780986</td>\n",
       "      <td>2.112438</td>\n",
       "      <td>0.595971</td>\n",
       "      <td>0.762600</td>\n",
       "    </tr>\n",
       "    <tr>\n",
       "      <th>1</th>\n",
       "      <td>1</td>\n",
       "      <td>id_00073f8be_1</td>\n",
       "      <td>3.158703</td>\n",
       "      <td>3.837759</td>\n",
       "      <td>5.287520</td>\n",
       "      <td>3.841180</td>\n",
       "      <td>3.136881</td>\n",
       "    </tr>\n",
       "    <tr>\n",
       "      <th>2</th>\n",
       "      <td>2</td>\n",
       "      <td>id_00073f8be_2</td>\n",
       "      <td>1.743935</td>\n",
       "      <td>0.502794</td>\n",
       "      <td>0.698932</td>\n",
       "      <td>0.673333</td>\n",
       "      <td>0.612905</td>\n",
       "    </tr>\n",
       "    <tr>\n",
       "      <th>3</th>\n",
       "      <td>3</td>\n",
       "      <td>id_00073f8be_3</td>\n",
       "      <td>1.428814</td>\n",
       "      <td>1.170839</td>\n",
       "      <td>1.335636</td>\n",
       "      <td>1.746877</td>\n",
       "      <td>1.645741</td>\n",
       "    </tr>\n",
       "    <tr>\n",
       "      <th>4</th>\n",
       "      <td>4</td>\n",
       "      <td>id_00073f8be_4</td>\n",
       "      <td>0.948283</td>\n",
       "      <td>0.542078</td>\n",
       "      <td>0.742183</td>\n",
       "      <td>0.849479</td>\n",
       "      <td>0.969002</td>\n",
       "    </tr>\n",
       "    <tr>\n",
       "      <th>...</th>\n",
       "      <td>...</td>\n",
       "      <td>...</td>\n",
       "      <td>...</td>\n",
       "      <td>...</td>\n",
       "      <td>...</td>\n",
       "      <td>...</td>\n",
       "      <td>...</td>\n",
       "    </tr>\n",
       "    <tr>\n",
       "      <th>457948</th>\n",
       "      <td>457948</td>\n",
       "      <td>id_ffda94f24_125</td>\n",
       "      <td>0.000000</td>\n",
       "      <td>0.000000</td>\n",
       "      <td>0.000000</td>\n",
       "      <td>0.000000</td>\n",
       "      <td>0.000000</td>\n",
       "    </tr>\n",
       "    <tr>\n",
       "      <th>457949</th>\n",
       "      <td>457949</td>\n",
       "      <td>id_ffda94f24_126</td>\n",
       "      <td>0.000000</td>\n",
       "      <td>0.000000</td>\n",
       "      <td>0.000000</td>\n",
       "      <td>0.000000</td>\n",
       "      <td>0.000000</td>\n",
       "    </tr>\n",
       "    <tr>\n",
       "      <th>457950</th>\n",
       "      <td>457950</td>\n",
       "      <td>id_ffda94f24_127</td>\n",
       "      <td>0.000000</td>\n",
       "      <td>0.000000</td>\n",
       "      <td>0.000000</td>\n",
       "      <td>0.000000</td>\n",
       "      <td>0.000000</td>\n",
       "    </tr>\n",
       "    <tr>\n",
       "      <th>457951</th>\n",
       "      <td>457951</td>\n",
       "      <td>id_ffda94f24_128</td>\n",
       "      <td>0.000000</td>\n",
       "      <td>0.000000</td>\n",
       "      <td>0.000000</td>\n",
       "      <td>0.000000</td>\n",
       "      <td>0.000000</td>\n",
       "    </tr>\n",
       "    <tr>\n",
       "      <th>457952</th>\n",
       "      <td>457952</td>\n",
       "      <td>id_ffda94f24_129</td>\n",
       "      <td>0.000000</td>\n",
       "      <td>0.000000</td>\n",
       "      <td>0.000000</td>\n",
       "      <td>0.000000</td>\n",
       "      <td>0.000000</td>\n",
       "    </tr>\n",
       "  </tbody>\n",
       "</table>\n",
       "<p>457953 rows × 7 columns</p>\n",
       "</div>"
      ],
      "text/plain": [
       "         index         id_seqpos  reactivity  deg_Mg_pH10  deg_pH10  \\\n",
       "0            0    id_00073f8be_0    0.904347     0.780986  2.112438   \n",
       "1            1    id_00073f8be_1    3.158703     3.837759  5.287520   \n",
       "2            2    id_00073f8be_2    1.743935     0.502794  0.698932   \n",
       "3            3    id_00073f8be_3    1.428814     1.170839  1.335636   \n",
       "4            4    id_00073f8be_4    0.948283     0.542078  0.742183   \n",
       "...        ...               ...         ...          ...       ...   \n",
       "457948  457948  id_ffda94f24_125    0.000000     0.000000  0.000000   \n",
       "457949  457949  id_ffda94f24_126    0.000000     0.000000  0.000000   \n",
       "457950  457950  id_ffda94f24_127    0.000000     0.000000  0.000000   \n",
       "457951  457951  id_ffda94f24_128    0.000000     0.000000  0.000000   \n",
       "457952  457952  id_ffda94f24_129    0.000000     0.000000  0.000000   \n",
       "\n",
       "        deg_Mg_50C   deg_50C  \n",
       "0         0.595971  0.762600  \n",
       "1         3.841180  3.136881  \n",
       "2         0.673333  0.612905  \n",
       "3         1.746877  1.645741  \n",
       "4         0.849479  0.969002  \n",
       "...            ...       ...  \n",
       "457948    0.000000  0.000000  \n",
       "457949    0.000000  0.000000  \n",
       "457950    0.000000  0.000000  \n",
       "457951    0.000000  0.000000  \n",
       "457952    0.000000  0.000000  \n",
       "\n",
       "[457953 rows x 7 columns]"
      ]
     },
     "execution_count": 24,
     "metadata": {},
     "output_type": "execute_result"
    }
   ],
   "source": [
    "pre_submission_LSTM"
   ]
  },
  {
   "cell_type": "code",
   "execution_count": 25,
   "metadata": {
    "execution": {
     "iopub.execute_input": "2020-09-25T14:26:10.252619Z",
     "iopub.status.busy": "2020-09-25T14:26:10.022127Z",
     "iopub.status.idle": "2020-09-25T14:26:10.277974Z",
     "shell.execute_reply": "2020-09-25T14:26:10.278595Z"
    },
    "papermill": {
     "duration": 0.313263,
     "end_time": "2020-09-25T14:26:10.278763",
     "exception": false,
     "start_time": "2020-09-25T14:26:09.965500",
     "status": "completed"
    },
    "tags": []
   },
   "outputs": [
    {
     "ename": "NameError",
     "evalue": "name 'result_public_GRU' is not defined",
     "output_type": "error",
     "traceback": [
      "\u001b[0;31m---------------------------------------------------------------------------\u001b[0m",
      "\u001b[0;31mNameError\u001b[0m                                 Traceback (most recent call last)",
      "\u001b[0;32m<ipython-input-25-89fc329f6028>\u001b[0m in \u001b[0;36m<module>\u001b[0;34m\u001b[0m\n\u001b[0;32m----> 1\u001b[0;31m \u001b[0mdf1\u001b[0m \u001b[0;34m=\u001b[0m \u001b[0mpd\u001b[0m\u001b[0;34m.\u001b[0m\u001b[0mDataFrame\u001b[0m\u001b[0;34m(\u001b[0m\u001b[0mresult_public_GRU\u001b[0m\u001b[0;34m[\u001b[0m\u001b[0;36m0\u001b[0m\u001b[0;34m]\u001b[0m\u001b[0;34m)\u001b[0m\u001b[0;34m\u001b[0m\u001b[0;34m\u001b[0m\u001b[0m\n\u001b[0m\u001b[1;32m      2\u001b[0m \u001b[0mdf1\u001b[0m\u001b[0;34m.\u001b[0m\u001b[0mcolumns\u001b[0m \u001b[0;34m=\u001b[0m \u001b[0;34m[\u001b[0m\u001b[0;34m'reactivity'\u001b[0m\u001b[0;34m,\u001b[0m \u001b[0;34m'deg_Mg_pH10'\u001b[0m\u001b[0;34m,\u001b[0m \u001b[0;34m'deg_pH10'\u001b[0m\u001b[0;34m,\u001b[0m\u001b[0;34m'deg_Mg_50C'\u001b[0m\u001b[0;34m,\u001b[0m\u001b[0;34m'deg_50C'\u001b[0m\u001b[0;34m,\u001b[0m\u001b[0;34m]\u001b[0m\u001b[0;34m\u001b[0m\u001b[0;34m\u001b[0m\u001b[0m\n\u001b[1;32m      3\u001b[0m \u001b[0mdf1\u001b[0m\u001b[0;34m.\u001b[0m\u001b[0minsert\u001b[0m\u001b[0;34m(\u001b[0m\u001b[0;36m0\u001b[0m\u001b[0;34m,\u001b[0m \u001b[0;34m'id_seqpos'\u001b[0m\u001b[0;34m,\u001b[0m \u001b[0;36m0\u001b[0m\u001b[0;34m)\u001b[0m\u001b[0;34m\u001b[0m\u001b[0;34m\u001b[0m\u001b[0m\n\u001b[1;32m      4\u001b[0m \u001b[0mdf1\u001b[0m\u001b[0;34m=\u001b[0m\u001b[0mpd\u001b[0m\u001b[0;34m.\u001b[0m\u001b[0mconcat\u001b[0m\u001b[0;34m(\u001b[0m\u001b[0;34m[\u001b[0m\u001b[0mdf1\u001b[0m\u001b[0;34m,\u001b[0m\u001b[0mdf0\u001b[0m\u001b[0;34m]\u001b[0m\u001b[0;34m)\u001b[0m\u001b[0;34m\u001b[0m\u001b[0;34m\u001b[0m\u001b[0m\n\u001b[1;32m      5\u001b[0m \u001b[0mid\u001b[0m\u001b[0;34m=\u001b[0m\u001b[0midlist_public\u001b[0m\u001b[0;34m[\u001b[0m\u001b[0;36m0\u001b[0m\u001b[0;34m]\u001b[0m\u001b[0;34m\u001b[0m\u001b[0;34m\u001b[0m\u001b[0m\n",
      "\u001b[0;31mNameError\u001b[0m: name 'result_public_GRU' is not defined"
     ]
    }
   ],
   "source": [
    "df1 = pd.DataFrame(result_public_GRU[0])\n",
    "df1.columns = ['reactivity', 'deg_Mg_pH10', 'deg_pH10','deg_Mg_50C','deg_50C',]\n",
    "df1.insert(0, 'id_seqpos', 0)\n",
    "df1=pd.concat([df1,df0])\n",
    "id=idlist_public[0]\n",
    "for i in range(len(df1)):\n",
    "    df1.iloc[i,0]=id+'_{}'.format(i)\n",
    "for j in range (len(result_public_GRU)-1):\n",
    "    id = idlist_public[j+1]\n",
    "    df2 = pd.DataFrame(result_public_GRU[j+1])\n",
    "    df2.columns = ['reactivity', 'deg_Mg_pH10', 'deg_pH10','deg_Mg_50C','deg_50C',]\n",
    "    df2.insert(0, 'id_seqpos', 0)\n",
    "    df2=pd.concat([df2,df0]) \n",
    "    for i in range(len(df2)):\n",
    "        df2.iloc[i,0]=id+'_{}'.format(i)\n",
    "    df1=pd.concat([df1,df2])\n",
    "public_dataframe=df1\n",
    "\n",
    "df1 = pd.DataFrame(result_private1_GRU[0])\n",
    "df1.columns = ['reactivity', 'deg_Mg_pH10', 'deg_pH10','deg_Mg_50C','deg_50C',]\n",
    "df1.insert(0, 'id_seqpos', 0)\n",
    "df1=pd.concat([df1,df0])\n",
    "id=idlist_private1[0]\n",
    "for i in range(len(df1)):\n",
    "    df1.iloc[i,0]=id+'_{}'.format(i)\n",
    "for j in range (len(result_private1_GRU)-1):\n",
    "    id = idlist_private1[j+1]\n",
    "    df2 = pd.DataFrame(result_private1_GRU[j+1])\n",
    "    df2.columns = ['reactivity', 'deg_Mg_pH10', 'deg_pH10','deg_Mg_50C','deg_50C',]\n",
    "    df2.insert(0, 'id_seqpos', 0)\n",
    "    df2=pd.concat([df2,df0])\n",
    "    for i in range(len(df2)):\n",
    "        df2.iloc[i,0]=id+'_{}'.format(i)\n",
    "    df1=pd.concat([df1,df2])\n",
    "private_dataframe1=df1\n",
    "\n",
    "df1 = pd.DataFrame(result_private2_GRU[0])\n",
    "df1.columns = ['reactivity', 'deg_Mg_pH10', 'deg_pH10','deg_Mg_50C','deg_50C',]\n",
    "df1.insert(0, 'id_seqpos', 0)\n",
    "df1=pd.concat([df1,df0])\n",
    "id=idlist_private2[0]\n",
    "for i in range(len(df1)):\n",
    "    df1.iloc[i,0]=id+'_{}'.format(i)\n",
    "for j in range (len(result_private2_GRU)-1):\n",
    "    id = idlist_private2[j+1]\n",
    "    df2 = pd.DataFrame(result_private2_GRU[j+1])\n",
    "    df2.columns = ['reactivity', 'deg_Mg_pH10', 'deg_pH10','deg_Mg_50C','deg_50C',]\n",
    "    df2.insert(0, 'id_seqpos', 0)\n",
    "    df2=pd.concat([df2,df0])\n",
    "    for i in range(len(df2)):\n",
    "        df2.iloc[i,0]=id+'_{}'.format(i)\n",
    "    df1=pd.concat([df1,df2])\n",
    "private_dataframe2=df1"
   ]
  },
  {
   "cell_type": "code",
   "execution_count": 26,
   "metadata": {
    "execution": {
     "iopub.execute_input": "2020-09-25T14:26:10.345070Z",
     "iopub.status.busy": "2020-09-25T14:26:10.344056Z",
     "iopub.status.idle": "2020-09-25T14:26:10.901471Z",
     "shell.execute_reply": "2020-09-25T14:26:10.900807Z"
    },
    "papermill": {
     "duration": 0.592847,
     "end_time": "2020-09-25T14:26:10.901624",
     "exception": false,
     "start_time": "2020-09-25T14:26:10.308777",
     "status": "completed"
    },
    "tags": []
   },
   "outputs": [],
   "source": [
    "merged_dataframe=pd.concat([public_dataframe,private_dataframe1,private_dataframe2])\n",
    "\n",
    "pre_submission_GRU=pd.merge(testindex,merged_dataframe)"
   ]
  },
  {
   "cell_type": "code",
   "execution_count": 27,
   "metadata": {
    "execution": {
     "iopub.execute_input": "2020-09-25T14:26:10.971629Z",
     "iopub.status.busy": "2020-09-25T14:26:10.970558Z",
     "iopub.status.idle": "2020-09-25T14:26:11.097330Z",
     "shell.execute_reply": "2020-09-25T14:26:11.097948Z"
    },
    "papermill": {
     "duration": 0.167033,
     "end_time": "2020-09-25T14:26:11.098124",
     "exception": false,
     "start_time": "2020-09-25T14:26:10.931091",
     "status": "completed"
    },
    "tags": []
   },
   "outputs": [
    {
     "data": {
      "text/html": [
       "<div>\n",
       "<style scoped>\n",
       "    .dataframe tbody tr th:only-of-type {\n",
       "        vertical-align: middle;\n",
       "    }\n",
       "\n",
       "    .dataframe tbody tr th {\n",
       "        vertical-align: top;\n",
       "    }\n",
       "\n",
       "    .dataframe thead th {\n",
       "        text-align: right;\n",
       "    }\n",
       "</style>\n",
       "<table border=\"1\" class=\"dataframe\">\n",
       "  <thead>\n",
       "    <tr style=\"text-align: right;\">\n",
       "      <th></th>\n",
       "      <th>id_seqpos</th>\n",
       "      <th>reactivity</th>\n",
       "      <th>deg_Mg_pH10</th>\n",
       "      <th>deg_pH10</th>\n",
       "      <th>deg_Mg_50C</th>\n",
       "      <th>deg_50C</th>\n",
       "    </tr>\n",
       "  </thead>\n",
       "  <tbody>\n",
       "    <tr>\n",
       "      <th>0</th>\n",
       "      <td>id_00073f8be_0</td>\n",
       "      <td>0.904347</td>\n",
       "      <td>0.780986</td>\n",
       "      <td>2.112438</td>\n",
       "      <td>0.595971</td>\n",
       "      <td>0.762600</td>\n",
       "    </tr>\n",
       "    <tr>\n",
       "      <th>1</th>\n",
       "      <td>id_00073f8be_1</td>\n",
       "      <td>3.158703</td>\n",
       "      <td>3.837759</td>\n",
       "      <td>5.287520</td>\n",
       "      <td>3.841180</td>\n",
       "      <td>3.136881</td>\n",
       "    </tr>\n",
       "    <tr>\n",
       "      <th>2</th>\n",
       "      <td>id_00073f8be_2</td>\n",
       "      <td>1.743935</td>\n",
       "      <td>0.502794</td>\n",
       "      <td>0.698932</td>\n",
       "      <td>0.673333</td>\n",
       "      <td>0.612905</td>\n",
       "    </tr>\n",
       "    <tr>\n",
       "      <th>3</th>\n",
       "      <td>id_00073f8be_3</td>\n",
       "      <td>1.428814</td>\n",
       "      <td>1.170839</td>\n",
       "      <td>1.335636</td>\n",
       "      <td>1.746877</td>\n",
       "      <td>1.645741</td>\n",
       "    </tr>\n",
       "    <tr>\n",
       "      <th>4</th>\n",
       "      <td>id_00073f8be_4</td>\n",
       "      <td>0.948283</td>\n",
       "      <td>0.542078</td>\n",
       "      <td>0.742183</td>\n",
       "      <td>0.849479</td>\n",
       "      <td>0.969002</td>\n",
       "    </tr>\n",
       "    <tr>\n",
       "      <th>...</th>\n",
       "      <td>...</td>\n",
       "      <td>...</td>\n",
       "      <td>...</td>\n",
       "      <td>...</td>\n",
       "      <td>...</td>\n",
       "      <td>...</td>\n",
       "    </tr>\n",
       "    <tr>\n",
       "      <th>457948</th>\n",
       "      <td>id_ffda94f24_125</td>\n",
       "      <td>0.000000</td>\n",
       "      <td>0.000000</td>\n",
       "      <td>0.000000</td>\n",
       "      <td>0.000000</td>\n",
       "      <td>0.000000</td>\n",
       "    </tr>\n",
       "    <tr>\n",
       "      <th>457949</th>\n",
       "      <td>id_ffda94f24_126</td>\n",
       "      <td>0.000000</td>\n",
       "      <td>0.000000</td>\n",
       "      <td>0.000000</td>\n",
       "      <td>0.000000</td>\n",
       "      <td>0.000000</td>\n",
       "    </tr>\n",
       "    <tr>\n",
       "      <th>457950</th>\n",
       "      <td>id_ffda94f24_127</td>\n",
       "      <td>0.000000</td>\n",
       "      <td>0.000000</td>\n",
       "      <td>0.000000</td>\n",
       "      <td>0.000000</td>\n",
       "      <td>0.000000</td>\n",
       "    </tr>\n",
       "    <tr>\n",
       "      <th>457951</th>\n",
       "      <td>id_ffda94f24_128</td>\n",
       "      <td>0.000000</td>\n",
       "      <td>0.000000</td>\n",
       "      <td>0.000000</td>\n",
       "      <td>0.000000</td>\n",
       "      <td>0.000000</td>\n",
       "    </tr>\n",
       "    <tr>\n",
       "      <th>457952</th>\n",
       "      <td>id_ffda94f24_129</td>\n",
       "      <td>0.000000</td>\n",
       "      <td>0.000000</td>\n",
       "      <td>0.000000</td>\n",
       "      <td>0.000000</td>\n",
       "      <td>0.000000</td>\n",
       "    </tr>\n",
       "  </tbody>\n",
       "</table>\n",
       "<p>457953 rows × 6 columns</p>\n",
       "</div>"
      ],
      "text/plain": [
       "               id_seqpos  reactivity  deg_Mg_pH10  deg_pH10  deg_Mg_50C  \\\n",
       "0         id_00073f8be_0    0.904347     0.780986  2.112438    0.595971   \n",
       "1         id_00073f8be_1    3.158703     3.837759  5.287520    3.841180   \n",
       "2         id_00073f8be_2    1.743935     0.502794  0.698932    0.673333   \n",
       "3         id_00073f8be_3    1.428814     1.170839  1.335636    1.746877   \n",
       "4         id_00073f8be_4    0.948283     0.542078  0.742183    0.849479   \n",
       "...                  ...         ...          ...       ...         ...   \n",
       "457948  id_ffda94f24_125    0.000000     0.000000  0.000000    0.000000   \n",
       "457949  id_ffda94f24_126    0.000000     0.000000  0.000000    0.000000   \n",
       "457950  id_ffda94f24_127    0.000000     0.000000  0.000000    0.000000   \n",
       "457951  id_ffda94f24_128    0.000000     0.000000  0.000000    0.000000   \n",
       "457952  id_ffda94f24_129    0.000000     0.000000  0.000000    0.000000   \n",
       "\n",
       "         deg_50C  \n",
       "0       0.762600  \n",
       "1       3.136881  \n",
       "2       0.612905  \n",
       "3       1.645741  \n",
       "4       0.969002  \n",
       "...          ...  \n",
       "457948  0.000000  \n",
       "457949  0.000000  \n",
       "457950  0.000000  \n",
       "457951  0.000000  \n",
       "457952  0.000000  \n",
       "\n",
       "[457953 rows x 6 columns]"
      ]
     },
     "execution_count": 27,
     "metadata": {},
     "output_type": "execute_result"
    }
   ],
   "source": [
    "blend_preds_df = pd.DataFrame()\n",
    "blend_preds_df['id_seqpos']=pre_submission_GRU['id_seqpos']\n",
    "blend_preds_df['reactivity'] = .5*pre_submission_GRU['reactivity'] + .5*pre_submission_LSTM['reactivity']\n",
    "blend_preds_df['deg_Mg_pH10'] = .5*pre_submission_GRU['deg_Mg_pH10'] + .5*pre_submission_LSTM['deg_Mg_pH10']\n",
    "blend_preds_df['deg_pH10'] = .5*pre_submission_GRU['deg_pH10'] + .5*pre_submission_LSTM['deg_pH10']\n",
    "blend_preds_df['deg_Mg_50C'] = .5*pre_submission_GRU['deg_Mg_50C'] + .5*pre_submission_LSTM['deg_Mg_50C']\n",
    "blend_preds_df['deg_50C'] = .5*pre_submission_GRU['deg_50C'] + .5*pre_submission_LSTM['deg_50C']\n",
    "blend_preds_df"
   ]
  },
  {
   "cell_type": "code",
   "execution_count": 28,
   "metadata": {
    "execution": {
     "iopub.execute_input": "2020-09-25T14:26:11.172790Z",
     "iopub.status.busy": "2020-09-25T14:26:11.171927Z",
     "iopub.status.idle": "2020-09-25T14:26:17.165267Z",
     "shell.execute_reply": "2020-09-25T14:26:17.164007Z"
    },
    "papermill": {
     "duration": 6.032473,
     "end_time": "2020-09-25T14:26:17.165403",
     "exception": false,
     "start_time": "2020-09-25T14:26:11.132930",
     "status": "completed"
    },
    "tags": []
   },
   "outputs": [],
   "source": [
    "blend_preds_df.to_csv(\"submission.csv\", index=False)"
   ]
  }
 ],
 "metadata": {
  "kernelspec": {
   "display_name": "Python 3",
   "language": "python",
   "name": "python3"
  },
  "language_info": {
   "codemirror_mode": {
    "name": "ipython",
    "version": 3
   },
   "file_extension": ".py",
   "mimetype": "text/x-python",
   "name": "python",
   "nbconvert_exporter": "python",
   "pygments_lexer": "ipython3",
   "version": "3.7.6"
  },
  "papermill": {
   "duration": 196.046931,
   "end_time": "2020-09-25T14:26:18.537375",
   "environment_variables": {},
   "exception": null,
   "input_path": "__notebook__.ipynb",
   "output_path": "__notebook__.ipynb",
   "parameters": {},
   "start_time": "2020-09-25T14:23:02.490444",
   "version": "2.1.0"
  }
 },
 "nbformat": 4,
 "nbformat_minor": 4
}
