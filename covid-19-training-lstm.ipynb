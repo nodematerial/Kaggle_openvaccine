{
 "cells": [
  {
   "cell_type": "code",
   "execution_count": 1,
   "metadata": {
    "_cell_guid": "79c7e3d0-c299-4dcb-8224-4455121ee9b0",
    "_uuid": "d629ff2d2480ee46fbb7e2d37f6b5fab8052498a",
    "execution": {
     "iopub.execute_input": "2020-09-25T13:24:02.090407Z",
     "iopub.status.busy": "2020-09-25T13:24:02.089529Z",
     "iopub.status.idle": "2020-09-25T13:24:13.761550Z",
     "shell.execute_reply": "2020-09-25T13:24:13.761027Z"
    },
    "papermill": {
     "duration": 11.697923,
     "end_time": "2020-09-25T13:24:13.761661",
     "exception": false,
     "start_time": "2020-09-25T13:24:02.063738",
     "status": "completed"
    },
    "tags": []
   },
   "outputs": [
    {
     "name": "stderr",
     "output_type": "stream",
     "text": [
      "\u001b[34m\u001b[1mwandb\u001b[0m: \u001b[33mWARNING\u001b[0m W&B installed but not logged in.  Run `wandb login` or set the WANDB_API_KEY env variable.\n"
     ]
    }
   ],
   "source": [
    "import time\n",
    "import warnings\n",
    "warnings.filterwarnings('ignore')\n",
    "import wandb\n",
    "import pandas as pd, numpy as np\n",
    "import math, json, gc, random, os, sys\n",
    "import torch\n",
    "import logging\n",
    "import torch.nn as nn\n",
    "import torch.optim as optim\n",
    "import torch.utils.data as data\n",
    "from sklearn.model_selection import train_test_split\n",
    "from catalyst.dl import SupervisedRunner\n",
    "from catalyst.contrib.dl.callbacks import WandbLogger\n",
    "from contextlib import contextmanager\n",
    "from catalyst.dl.callbacks import AccuracyCallback, F1ScoreCallback, OptimizerCallback\n",
    "#from pytorch_memlab import profile, MemReporter\n",
    "\n",
    "device = torch.device(\"cuda:0\" if torch.cuda.is_available() else \"cpu\")"
   ]
  },
  {
   "cell_type": "code",
   "execution_count": 3,
   "metadata": {
    "execution": {
     "iopub.execute_input": "2020-09-25T13:24:15.521128Z",
     "iopub.status.busy": "2020-09-25T13:24:15.520591Z",
     "iopub.status.idle": "2020-09-25T13:24:15.524694Z",
     "shell.execute_reply": "2020-09-25T13:24:15.524294Z"
    },
    "papermill": {
     "duration": 0.019987,
     "end_time": "2020-09-25T13:24:15.524778",
     "exception": false,
     "start_time": "2020-09-25T13:24:15.504791",
     "status": "completed"
    },
    "tags": []
   },
   "outputs": [],
   "source": [
    "def set_seed(seed: int):\n",
    "    random.seed(seed)\n",
    "    np.random.seed(seed)\n",
    "    os.environ[\"PYTHONHASHSEED\"] = str(seed)\n",
    "    torch.manual_seed(seed)\n",
    "    torch.cuda.manual_seed(seed)  # type: ignore\n",
    "    torch.backends.cudnn.deterministic = True  # type: ignore\n",
    "    torch.backends.cudnn.benchmark = True  # type: ignore"
   ]
  },
  {
   "cell_type": "code",
   "execution_count": 4,
   "metadata": {
    "execution": {
     "iopub.execute_input": "2020-09-25T13:24:15.549760Z",
     "iopub.status.busy": "2020-09-25T13:24:15.549131Z",
     "iopub.status.idle": "2020-09-25T13:24:15.555185Z",
     "shell.execute_reply": "2020-09-25T13:24:15.554644Z"
    },
    "papermill": {
     "duration": 0.01989,
     "end_time": "2020-09-25T13:24:15.555273",
     "exception": false,
     "start_time": "2020-09-25T13:24:15.535383",
     "status": "completed"
    },
    "tags": []
   },
   "outputs": [],
   "source": [
    "set_seed(2020)"
   ]
  },
  {
   "cell_type": "code",
   "execution_count": 5,
   "metadata": {
    "execution": {
     "iopub.execute_input": "2020-09-25T13:24:15.579994Z",
     "iopub.status.busy": "2020-09-25T13:24:15.579462Z",
     "iopub.status.idle": "2020-09-25T13:24:16.093367Z",
     "shell.execute_reply": "2020-09-25T13:24:16.091925Z"
    },
    "papermill": {
     "duration": 0.5279,
     "end_time": "2020-09-25T13:24:16.093486",
     "exception": false,
     "start_time": "2020-09-25T13:24:15.565586",
     "status": "completed"
    },
    "tags": []
   },
   "outputs": [],
   "source": [
    "train = pd.read_json('/kaggle/input/stanford-covid-vaccine/train.json', lines=True)\n",
    "train=train[train['SN_filter']==1]"
   ]
  },
  {
   "cell_type": "code",
   "execution_count": 6,
   "metadata": {
    "execution": {
     "iopub.execute_input": "2020-09-25T13:24:16.123557Z",
     "iopub.status.busy": "2020-09-25T13:24:16.122684Z",
     "iopub.status.idle": "2020-09-25T13:24:18.341794Z",
     "shell.execute_reply": "2020-09-25T13:24:18.340711Z"
    },
    "papermill": {
     "duration": 2.237431,
     "end_time": "2020-09-25T13:24:18.341910",
     "exception": false,
     "start_time": "2020-09-25T13:24:16.104479",
     "status": "completed"
    },
    "tags": []
   },
   "outputs": [],
   "source": [
    "bpp_max =[]\n",
    "bpp_sum =[]\n",
    "\n",
    "id = train.id.values\n",
    "for i in id:\n",
    "    probability = np.load('../input/stanford-covid-vaccine'+'/bpps/%s.npy'%i)\n",
    "    bpp_max.append(probability.max(-1).tolist())\n",
    "    bpp_sum.append(probability.sum(-1).tolist())\n"
   ]
  },
  {
   "cell_type": "code",
   "execution_count": 7,
   "metadata": {
    "execution": {
     "iopub.execute_input": "2020-09-25T13:24:18.389153Z",
     "iopub.status.busy": "2020-09-25T13:24:18.387577Z",
     "iopub.status.idle": "2020-09-25T13:24:18.390204Z",
     "shell.execute_reply": "2020-09-25T13:24:18.390615Z"
    },
    "papermill": {
     "duration": 0.037787,
     "end_time": "2020-09-25T13:24:18.390722",
     "exception": false,
     "start_time": "2020-09-25T13:24:18.352935",
     "status": "completed"
    },
    "tags": []
   },
   "outputs": [],
   "source": [
    "train['bpp_max']=bpp_max\n",
    "train['bpp_sum']=bpp_sum"
   ]
  },
  {
   "cell_type": "code",
   "execution_count": 8,
   "metadata": {
    "execution": {
     "iopub.execute_input": "2020-09-25T13:24:18.424027Z",
     "iopub.status.busy": "2020-09-25T13:24:18.423528Z",
     "iopub.status.idle": "2020-09-25T13:24:18.428889Z",
     "shell.execute_reply": "2020-09-25T13:24:18.429376Z"
    },
    "papermill": {
     "duration": 0.02658,
     "end_time": "2020-09-25T13:24:18.429490",
     "exception": false,
     "start_time": "2020-09-25T13:24:18.402910",
     "status": "completed"
    },
    "tags": []
   },
   "outputs": [],
   "source": [
    "trainval_x=train.loc[:,['id','sequence','structure','predicted_loop_type','bpp_max','bpp_sum']]\n",
    "trainval_y=train.loc[:,['reactivity','deg_Mg_pH10','deg_pH10','deg_Mg_50C','deg_50C']]\n",
    "trainval_x=trainval_x.reset_index(drop=True)\n",
    "trainval_y=trainval_y.reset_index(drop=True)"
   ]
  },
  {
   "cell_type": "code",
   "execution_count": 9,
   "metadata": {
    "execution": {
     "iopub.execute_input": "2020-09-25T13:24:18.457000Z",
     "iopub.status.busy": "2020-09-25T13:24:18.455670Z",
     "iopub.status.idle": "2020-09-25T13:24:18.459940Z",
     "shell.execute_reply": "2020-09-25T13:24:18.459551Z"
    },
    "papermill": {
     "duration": 0.019634,
     "end_time": "2020-09-25T13:24:18.460022",
     "exception": false,
     "start_time": "2020-09-25T13:24:18.440388",
     "status": "completed"
    },
    "tags": []
   },
   "outputs": [],
   "source": [
    "train_x,val_x,train_y,val_y=train_test_split(trainval_x,trainval_y,test_size=0.2)"
   ]
  },
  {
   "cell_type": "code",
   "execution_count": 10,
   "metadata": {
    "execution": {
     "iopub.execute_input": "2020-09-25T13:24:18.494343Z",
     "iopub.status.busy": "2020-09-25T13:24:18.493190Z",
     "iopub.status.idle": "2020-09-25T13:24:18.495593Z",
     "shell.execute_reply": "2020-09-25T13:24:18.495995Z"
    },
    "papermill": {
     "duration": 0.0252,
     "end_time": "2020-09-25T13:24:18.496109",
     "exception": false,
     "start_time": "2020-09-25T13:24:18.470909",
     "status": "completed"
    },
    "tags": []
   },
   "outputs": [],
   "source": [
    "token2int = {x:i for i, x in enumerate('().ACGUBEHIMSX')}\n",
    "def preprocess_inputs_train(df, cols=['sequence', 'structure', 'predicted_loop_type']):\n",
    "    base_fea= np.transpose(\n",
    "        np.array(\n",
    "            df[cols]\n",
    "            .applymap(lambda seq: [token2int[x] for x in seq])\n",
    "            .values\n",
    "            .tolist()\n",
    "        ),\n",
    "        (0, 2, 1)\n",
    "    )\n",
    "    bpps_max_fea = np.array(train_x['bpp_max'].to_list())[:,:,np.newaxis]\n",
    "    bpps_sum_fea = np.array(train_x['bpp_sum'].to_list())[:,:,np.newaxis]\n",
    "    return np.concatenate([base_fea,bpps_max_fea,bpps_sum_fea], 2)\n",
    "\n",
    "def preprocess_inputs_val(df, cols=['sequence', 'structure', 'predicted_loop_type']):\n",
    "    base_fea= np.transpose(\n",
    "        np.array(\n",
    "            df[cols]\n",
    "            .applymap(lambda seq: [token2int[x] for x in seq])\n",
    "            .values\n",
    "            .tolist()\n",
    "        ),\n",
    "        (0, 2, 1)\n",
    "    )\n",
    "    bpps_max_fea = np.array(val_x['bpp_max'].to_list())[:,:,np.newaxis]\n",
    "    bpps_sum_fea = np.array(val_x['bpp_sum'].to_list())[:,:,np.newaxis]\n",
    "    return np.concatenate([base_fea,bpps_max_fea,bpps_sum_fea], 2)"
   ]
  },
  {
   "cell_type": "code",
   "execution_count": 11,
   "metadata": {
    "execution": {
     "iopub.execute_input": "2020-09-25T13:24:18.590859Z",
     "iopub.status.busy": "2020-09-25T13:24:18.588786Z",
     "iopub.status.idle": "2020-09-25T13:24:18.591461Z",
     "shell.execute_reply": "2020-09-25T13:24:18.591856Z"
    },
    "papermill": {
     "duration": 0.08437,
     "end_time": "2020-09-25T13:24:18.591965",
     "exception": false,
     "start_time": "2020-09-25T13:24:18.507595",
     "status": "completed"
    },
    "tags": []
   },
   "outputs": [],
   "source": [
    "train_y_array= np.array(train_y.values.tolist()).transpose(0, 2, 1)\n",
    "val_y_array= np.array(val_y.values.tolist()).transpose(0, 2, 1)"
   ]
  },
  {
   "cell_type": "code",
   "execution_count": 12,
   "metadata": {
    "execution": {
     "iopub.execute_input": "2020-09-25T13:24:18.620852Z",
     "iopub.status.busy": "2020-09-25T13:24:18.620352Z",
     "iopub.status.idle": "2020-09-25T13:24:18.807095Z",
     "shell.execute_reply": "2020-09-25T13:24:18.806570Z"
    },
    "papermill": {
     "duration": 0.203671,
     "end_time": "2020-09-25T13:24:18.807210",
     "exception": false,
     "start_time": "2020-09-25T13:24:18.603539",
     "status": "completed"
    },
    "tags": []
   },
   "outputs": [],
   "source": [
    "train_inputs = torch.from_numpy(preprocess_inputs_train(train_x))\n",
    "val_inputs = torch.from_numpy(preprocess_inputs_val(val_x))\n",
    "train_outputs=torch.tensor(train_y_array).clone().double()\n",
    "val_outputs=torch.tensor(val_y_array).clone().double()"
   ]
  },
  {
   "cell_type": "code",
   "execution_count": 13,
   "metadata": {
    "execution": {
     "iopub.execute_input": "2020-09-25T13:24:18.854998Z",
     "iopub.status.busy": "2020-09-25T13:24:18.853983Z",
     "iopub.status.idle": "2020-09-25T13:24:18.864124Z",
     "shell.execute_reply": "2020-09-25T13:24:18.864817Z"
    },
    "papermill": {
     "duration": 0.040003,
     "end_time": "2020-09-25T13:24:18.864998",
     "exception": false,
     "start_time": "2020-09-25T13:24:18.824995",
     "status": "completed"
    },
    "tags": []
   },
   "outputs": [],
   "source": [
    "class DataSet:\n",
    "    def __init__(self,X,Y):\n",
    "        self.X = X# 入力\n",
    "        self.t = Y# 出力\n",
    "\n",
    "    def __len__(self):\n",
    "        return len(self.X) \n",
    "\n",
    "    def __getitem__(self, index):\n",
    "        return self.X[index], self.t[index]"
   ]
  },
  {
   "cell_type": "code",
   "execution_count": 14,
   "metadata": {
    "execution": {
     "iopub.execute_input": "2020-09-25T13:24:18.916596Z",
     "iopub.status.busy": "2020-09-25T13:24:18.915714Z",
     "iopub.status.idle": "2020-09-25T13:24:18.930180Z",
     "shell.execute_reply": "2020-09-25T13:24:18.927902Z"
    },
    "papermill": {
     "duration": 0.045231,
     "end_time": "2020-09-25T13:24:18.930417",
     "exception": false,
     "start_time": "2020-09-25T13:24:18.885186",
     "status": "completed"
    },
    "tags": []
   },
   "outputs": [],
   "source": [
    "class LSTM_model(nn.Module):\n",
    "    def __init__(\n",
    "        self, seq_len=107, pred_len=68, dropout=0.5, embed_dim=100, hidden_dim=1024, hidden_layers=2\n",
    "    ):\n",
    "        super(LSTM_model, self).__init__()\n",
    "        self.pred_len = pred_len\n",
    "\n",
    "        self.embeding = nn.Embedding(num_embeddings=len(token2int), embedding_dim=embed_dim)\n",
    "        self.lstm = nn.LSTM(\n",
    "            input_size=embed_dim * 3+2,\n",
    "            hidden_size=hidden_dim,\n",
    "            num_layers=hidden_layers,\n",
    "            dropout=dropout,\n",
    "            bidirectional=True,\n",
    "            batch_first=True,\n",
    "        )\n",
    "        self.linear = nn.Linear(hidden_dim * 2, 5)\n",
    "        \n",
    "\n",
    "    def forward(self, seqs):\n",
    "        embed = self.embeding(seqs[:,:,0:3].long())\n",
    "        reshaped = torch.reshape(embed, (-1, embed.shape[1], embed.shape[2] * embed.shape[3]))\n",
    "        reshaped= torch.cat((reshaped,seqs[:,:,3:5]),2)\n",
    "        output, hidden = self.lstm(reshaped)\n",
    "        truncated = output[:, : self.pred_len, :]\n",
    "        out = self.linear(truncated)\n",
    "        return out"
   ]
  },
  {
   "cell_type": "code",
   "execution_count": 15,
   "metadata": {
    "execution": {
     "iopub.execute_input": "2020-09-25T13:24:18.988205Z",
     "iopub.status.busy": "2020-09-25T13:24:18.987360Z",
     "iopub.status.idle": "2020-09-25T13:49:07.096761Z",
     "shell.execute_reply": "2020-09-25T13:49:07.095316Z"
    },
    "papermill": {
     "duration": 1488.141346,
     "end_time": "2020-09-25T13:49:07.096874",
     "exception": false,
     "start_time": "2020-09-25T13:24:18.955528",
     "status": "completed"
    },
    "tags": []
   },
   "outputs": [
    {
     "data": {
      "text/html": [
       "\n",
       "                Logging results to <a href=\"https://wandb.com\" target=\"_blank\">Weights & Biases</a> <a href=\"https://docs.wandb.com/integrations/jupyter.html\" target=\"_blank\">(Documentation)</a>.<br/>\n",
       "                Project page: <a href=\"https://app.wandb.ai/kota-noda/my-first-project\" target=\"_blank\">https://app.wandb.ai/kota-noda/my-first-project</a><br/>\n",
       "                Run page: <a href=\"https://app.wandb.ai/kota-noda/my-first-project/runs/g5fyuxoe\" target=\"_blank\">https://app.wandb.ai/kota-noda/my-first-project/runs/g5fyuxoe</a><br/>\n",
       "            "
      ],
      "text/plain": [
       "<IPython.core.display.HTML object>"
      ]
     },
     "metadata": {},
     "output_type": "display_data"
    },
    {
     "name": "stderr",
     "output_type": "stream",
     "text": [
      "wandb: Wandb version 0.10.2 is available!  To upgrade, please run:\n",
      "wandb:  $ pip install wandb --upgrade\n"
     ]
    },
    {
     "name": "stdout",
     "output_type": "stream",
     "text": [
      "1/30 * Epoch (train): 100% 39/39 [00:11<00:00,  3.36it/s, loss=0.126]\n",
      "1/30 * Epoch (valid): 100% 10/10 [00:01<00:00,  9.36it/s, loss=0.129]\n",
      "[2020-09-25 13:24:40,344] \n",
      "1/30 * Epoch 1 (_base): lr=0.0010 | momentum=0.9000\n",
      "1/30 * Epoch 1 (train): loss=0.2503\n",
      "1/30 * Epoch 1 (valid): loss=0.1245\n",
      "2/30 * Epoch (train): 100% 39/39 [00:11<00:00,  3.40it/s, loss=0.092]\n",
      "2/30 * Epoch (valid): 100% 10/10 [00:01<00:00,  9.09it/s, loss=0.091]\n",
      "[2020-09-25 13:25:20,093] \n",
      "2/30 * Epoch 2 (_base): lr=0.0010 | momentum=0.9000\n",
      "2/30 * Epoch 2 (train): loss=0.1131\n",
      "2/30 * Epoch 2 (valid): loss=0.0964\n",
      "3/30 * Epoch (train): 100% 39/39 [00:11<00:00,  3.35it/s, loss=0.089]\n",
      "3/30 * Epoch (valid): 100% 10/10 [00:01<00:00,  8.35it/s, loss=0.083]\n",
      "[2020-09-25 13:26:10,825] \n",
      "3/30 * Epoch 3 (_base): lr=0.0010 | momentum=0.9000\n",
      "3/30 * Epoch 3 (train): loss=0.0982\n",
      "3/30 * Epoch 3 (valid): loss=0.0870\n",
      "4/30 * Epoch (train): 100% 39/39 [00:11<00:00,  3.40it/s, loss=0.075]\n",
      "4/30 * Epoch (valid): 100% 10/10 [00:01<00:00,  9.16it/s, loss=0.077]\n",
      "[2020-09-25 13:27:07,821] \n",
      "4/30 * Epoch 4 (_base): lr=0.0009 | momentum=0.9000\n",
      "4/30 * Epoch 4 (train): loss=0.0890\n",
      "4/30 * Epoch 4 (valid): loss=0.0799\n",
      "5/30 * Epoch (train): 100% 39/39 [00:11<00:00,  3.41it/s, loss=0.074]\n",
      "5/30 * Epoch (valid): 100% 10/10 [00:01<00:00,  9.29it/s, loss=0.067]\n",
      "[2020-09-25 13:28:01,737] \n",
      "5/30 * Epoch 5 (_base): lr=0.0009 | momentum=0.9000\n",
      "5/30 * Epoch 5 (train): loss=0.0813\n",
      "5/30 * Epoch 5 (valid): loss=0.0717\n",
      "6/30 * Epoch (train): 100% 39/39 [00:11<00:00,  3.38it/s, loss=0.069]\n",
      "6/30 * Epoch (valid): 100% 10/10 [00:01<00:00,  9.08it/s, loss=0.062]\n",
      "[2020-09-25 13:28:55,670] \n",
      "6/30 * Epoch 6 (_base): lr=0.0009 | momentum=0.9000\n",
      "6/30 * Epoch 6 (train): loss=0.0747\n",
      "6/30 * Epoch 6 (valid): loss=0.0678\n",
      "7/30 * Epoch (train): 100% 39/39 [00:11<00:00,  3.40it/s, loss=0.065]\n",
      "7/30 * Epoch (valid): 100% 10/10 [00:01<00:00,  9.24it/s, loss=0.061]\n",
      "[2020-09-25 13:29:49,592] \n",
      "7/30 * Epoch 7 (_base): lr=0.0009 | momentum=0.9000\n",
      "7/30 * Epoch 7 (train): loss=0.0696\n",
      "7/30 * Epoch 7 (valid): loss=0.0663\n",
      "8/30 * Epoch (train): 100% 39/39 [00:11<00:00,  3.41it/s, loss=0.077]\n",
      "8/30 * Epoch (valid): 100% 10/10 [00:01<00:00,  9.38it/s, loss=0.055]\n",
      "[2020-09-25 13:30:43,530] \n",
      "8/30 * Epoch 8 (_base): lr=0.0008 | momentum=0.9000\n",
      "8/30 * Epoch 8 (train): loss=0.0660\n",
      "8/30 * Epoch 8 (valid): loss=0.0616\n",
      "9/30 * Epoch (train): 100% 39/39 [00:11<00:00,  3.39it/s, loss=0.053]\n",
      "9/30 * Epoch (valid): 100% 10/10 [00:01<00:00,  9.07it/s, loss=0.054]\n",
      "[2020-09-25 13:31:37,475] \n",
      "9/30 * Epoch 9 (_base): lr=0.0008 | momentum=0.9000\n",
      "9/30 * Epoch 9 (train): loss=0.0626\n",
      "9/30 * Epoch 9 (valid): loss=0.0612\n",
      "10/30 * Epoch (train): 100% 39/39 [00:11<00:00,  3.40it/s, loss=0.057]\n",
      "10/30 * Epoch (valid): 100% 10/10 [00:01<00:00,  9.30it/s, loss=0.053]\n",
      "[2020-09-25 13:32:31,396] \n",
      "10/30 * Epoch 10 (_base): lr=0.0008 | momentum=0.9000\n",
      "10/30 * Epoch 10 (train): loss=0.0598\n",
      "10/30 * Epoch 10 (valid): loss=0.0587\n",
      "11/30 * Epoch (train): 100% 39/39 [00:11<00:00,  3.38it/s, loss=0.055]\n",
      "11/30 * Epoch (valid): 100% 10/10 [00:01<00:00,  9.33it/s, loss=0.052]\n",
      "[2020-09-25 13:33:25,332] \n",
      "11/30 * Epoch 11 (_base): lr=0.0007 | momentum=0.9000\n",
      "11/30 * Epoch 11 (train): loss=0.0570\n",
      "11/30 * Epoch 11 (valid): loss=0.0580\n",
      "12/30 * Epoch (train): 100% 39/39 [00:23<00:00,  1.67it/s, loss=0.048]\n",
      "12/30 * Epoch (valid): 100% 10/10 [00:01<00:00,  8.07it/s, loss=0.050]\n",
      "[2020-09-25 13:34:20,539] \n",
      "12/30 * Epoch 12 (_base): lr=0.0007 | momentum=0.9000\n",
      "12/30 * Epoch 12 (train): loss=0.0548\n",
      "12/30 * Epoch 12 (valid): loss=0.0559\n",
      "13/30 * Epoch (train): 100% 39/39 [00:11<00:00,  3.39it/s, loss=0.052]\n",
      "13/30 * Epoch (valid): 100% 10/10 [00:01<00:00,  9.15it/s, loss=0.048]\n",
      "[2020-09-25 13:35:13,096] \n",
      "13/30 * Epoch 13 (_base): lr=0.0006 | momentum=0.9000\n",
      "13/30 * Epoch 13 (train): loss=0.0523\n",
      "13/30 * Epoch 13 (valid): loss=0.0546\n",
      "14/30 * Epoch (train): 100% 39/39 [00:11<00:00,  3.39it/s, loss=0.047]\n",
      "14/30 * Epoch (valid): 100% 10/10 [00:01<00:00,  9.28it/s, loss=0.051]\n",
      "[2020-09-25 13:36:07,019] \n",
      "14/30 * Epoch 14 (_base): lr=0.0006 | momentum=0.9000\n",
      "14/30 * Epoch 14 (train): loss=0.0504\n",
      "14/30 * Epoch 14 (valid): loss=0.0547\n",
      "15/30 * Epoch (train): 100% 39/39 [00:11<00:00,  3.39it/s, loss=0.042]\n",
      "15/30 * Epoch (valid): 100% 10/10 [00:01<00:00,  9.32it/s, loss=0.048]\n",
      "[2020-09-25 13:36:48,909] \n",
      "15/30 * Epoch 15 (_base): lr=0.0005 | momentum=0.9000\n",
      "15/30 * Epoch 15 (train): loss=0.0483\n",
      "15/30 * Epoch 15 (valid): loss=0.0529\n",
      "16/30 * Epoch (train): 100% 39/39 [00:11<00:00,  3.37it/s, loss=0.048]\n",
      "16/30 * Epoch (valid): 100% 10/10 [00:01<00:00,  9.24it/s, loss=0.048]\n",
      "[2020-09-25 13:37:36,952] \n",
      "16/30 * Epoch 16 (_base): lr=0.0005 | momentum=0.9000\n",
      "16/30 * Epoch 16 (train): loss=0.0464\n",
      "16/30 * Epoch 16 (valid): loss=0.0530\n",
      "17/30 * Epoch (train): 100% 39/39 [00:11<00:00,  3.39it/s, loss=0.043]\n",
      "17/30 * Epoch (valid): 100% 10/10 [00:01<00:00,  9.12it/s, loss=0.046]\n",
      "[2020-09-25 13:38:21,650] \n",
      "17/30 * Epoch 17 (_base): lr=0.0004 | momentum=0.9000\n",
      "17/30 * Epoch 17 (train): loss=0.0441\n",
      "17/30 * Epoch 17 (valid): loss=0.0512\n",
      "18/30 * Epoch (train): 100% 39/39 [00:11<00:00,  3.39it/s, loss=0.046]\n",
      "18/30 * Epoch (valid): 100% 10/10 [00:01<00:00,  9.28it/s, loss=0.045]\n",
      "[2020-09-25 13:39:09,761] \n",
      "18/30 * Epoch 18 (_base): lr=0.0004 | momentum=0.9000\n",
      "18/30 * Epoch 18 (train): loss=0.0423\n",
      "18/30 * Epoch 18 (valid): loss=0.0510\n",
      "19/30 * Epoch (train): 100% 39/39 [00:11<00:00,  3.37it/s, loss=0.042]\n",
      "19/30 * Epoch (valid): 100% 10/10 [00:01<00:00,  9.20it/s, loss=0.045]\n",
      "[2020-09-25 13:39:59,720] \n",
      "19/30 * Epoch 19 (_base): lr=0.0003 | momentum=0.9000\n",
      "19/30 * Epoch 19 (train): loss=0.0407\n",
      "19/30 * Epoch 19 (valid): loss=0.0508\n",
      "20/30 * Epoch (train): 100% 39/39 [00:11<00:00,  3.39it/s, loss=0.037]\n",
      "20/30 * Epoch (valid): 100% 10/10 [00:01<00:00,  9.30it/s, loss=0.045]\n",
      "[2020-09-25 13:40:53,666] \n",
      "20/30 * Epoch 20 (_base): lr=0.0003 | momentum=0.9000\n",
      "20/30 * Epoch 20 (train): loss=0.0393\n",
      "20/30 * Epoch 20 (valid): loss=0.0505\n",
      "21/30 * Epoch (train): 100% 39/39 [00:11<00:00,  3.39it/s, loss=0.040]\n",
      "21/30 * Epoch (valid): 100% 10/10 [00:01<00:00,  9.27it/s, loss=0.046]\n",
      "[2020-09-25 13:41:47,619] \n",
      "21/30 * Epoch 21 (_base): lr=0.0003 | momentum=0.9000\n",
      "21/30 * Epoch 21 (train): loss=0.0379\n",
      "21/30 * Epoch 21 (valid): loss=0.0507\n",
      "22/30 * Epoch (train): 100% 39/39 [00:11<00:00,  3.40it/s, loss=0.041]\n",
      "22/30 * Epoch (valid): 100% 10/10 [00:01<00:00,  9.35it/s, loss=0.045]\n",
      "[2020-09-25 13:42:27,612] \n",
      "22/30 * Epoch 22 (_base): lr=0.0002 | momentum=0.9000\n",
      "22/30 * Epoch 22 (train): loss=0.0365\n",
      "22/30 * Epoch 22 (valid): loss=0.0500\n",
      "23/30 * Epoch (train): 100% 39/39 [00:11<00:00,  3.37it/s, loss=0.039]\n",
      "23/30 * Epoch (valid): 100% 10/10 [00:01<00:00,  9.25it/s, loss=0.044]\n",
      "[2020-09-25 13:43:15,480] \n",
      "23/30 * Epoch 23 (_base): lr=0.0002 | momentum=0.9000\n",
      "23/30 * Epoch 23 (train): loss=0.0353\n",
      "23/30 * Epoch 23 (valid): loss=0.0496\n",
      "24/30 * Epoch (train): 100% 39/39 [00:11<00:00,  3.39it/s, loss=0.033]\n",
      "24/30 * Epoch (valid): 100% 10/10 [00:01<00:00,  9.31it/s, loss=0.045]\n",
      "[2020-09-25 13:44:09,324] \n",
      "24/30 * Epoch 24 (_base): lr=0.0001 | momentum=0.9000\n",
      "24/30 * Epoch 24 (train): loss=0.0346\n",
      "24/30 * Epoch 24 (valid): loss=0.0502\n",
      "25/30 * Epoch (train): 100% 39/39 [00:11<00:00,  3.40it/s, loss=0.031]\n",
      "25/30 * Epoch (valid): 100% 10/10 [00:01<00:00,  9.34it/s, loss=0.044]\n",
      "[2020-09-25 13:44:53,422] \n",
      "25/30 * Epoch 25 (_base): lr=0.0001 | momentum=0.9000\n",
      "25/30 * Epoch 25 (train): loss=0.0338\n",
      "25/30 * Epoch 25 (valid): loss=0.0499\n",
      "26/30 * Epoch (train): 100% 39/39 [00:11<00:00,  3.37it/s, loss=0.031]\n",
      "26/30 * Epoch (valid): 100% 10/10 [00:01<00:00,  8.98it/s, loss=0.043]\n",
      "[2020-09-25 13:45:24,452] \n",
      "26/30 * Epoch 26 (_base): lr=8.284e-05 | momentum=0.9000\n",
      "26/30 * Epoch 26 (train): loss=0.0331\n",
      "26/30 * Epoch 26 (valid): loss=0.0490\n",
      "27/30 * Epoch (train): 100% 39/39 [00:11<00:00,  3.37it/s, loss=0.031]\n",
      "27/30 * Epoch (valid): 100% 10/10 [00:01<00:00,  9.12it/s, loss=0.044]\n",
      "[2020-09-25 13:46:10,460] \n",
      "27/30 * Epoch 27 (_base): lr=5.889e-05 | momentum=0.9000\n",
      "27/30 * Epoch 27 (train): loss=0.0323\n",
      "27/30 * Epoch 27 (valid): loss=0.0493\n",
      "28/30 * Epoch (train): 100% 39/39 [00:11<00:00,  3.39it/s, loss=0.028]\n",
      "28/30 * Epoch (valid): 100% 10/10 [00:01<00:00,  9.22it/s, loss=0.044]\n",
      "[2020-09-25 13:46:50,484] \n",
      "28/30 * Epoch 28 (_base): lr=3.892e-05 | momentum=0.9000\n",
      "28/30 * Epoch 28 (train): loss=0.0317\n",
      "28/30 * Epoch 28 (valid): loss=0.0494\n",
      "29/30 * Epoch (train): 100% 39/39 [00:11<00:00,  3.39it/s, loss=0.034]\n",
      "29/30 * Epoch (valid): 100% 10/10 [00:01<00:00,  9.38it/s, loss=0.043]\n",
      "[2020-09-25 13:47:24,893] \n",
      "29/30 * Epoch 29 (_base): lr=2.308e-05 | momentum=0.9000\n",
      "29/30 * Epoch 29 (train): loss=0.0314\n",
      "29/30 * Epoch 29 (valid): loss=0.0489\n",
      "30/30 * Epoch (train): 100% 39/39 [00:11<00:00,  3.38it/s, loss=0.039]\n",
      "30/30 * Epoch (valid): 100% 10/10 [00:01<00:00,  9.20it/s, loss=0.043]\n",
      "[2020-09-25 13:48:11,105] \n",
      "30/30 * Epoch 30 (_base): lr=1.145e-05 | momentum=0.9000\n",
      "30/30 * Epoch 30 (train): loss=0.0310\n",
      "30/30 * Epoch 30 (valid): loss=0.0488\n",
      "Top best models:\n",
      "checkpoints/train.30.pth\t0.0488\n"
     ]
    }
   ],
   "source": [
    "loaders = {\n",
    "    \"train\": data.DataLoader(DataSet(train_inputs,train_outputs), \n",
    "                             batch_size=32, \n",
    "                             shuffle=True, \n",
    "                             num_workers=2, \n",
    "                             pin_memory=True, \n",
    "                             drop_last=True),\n",
    "    \"valid\": data.DataLoader(DataSet(val_inputs,val_outputs), \n",
    "                             batch_size=32, \n",
    "                             shuffle=False,\n",
    "                             num_workers=2,\n",
    "                             pin_memory=True,\n",
    "                             drop_last=False)\n",
    "}\n",
    "\n",
    "output_path = './'\n",
    "\n",
    "# model\n",
    "model = LSTM_model().to(device).double()\n",
    "\n",
    "# Optimizer\n",
    "optimizer = optim.Adam(model.parameters(), lr=0.001)\n",
    "\n",
    "# Scheduler\n",
    "scheduler = optim.lr_scheduler.CosineAnnealingLR(optimizer, T_max=33)\n",
    "\n",
    "# Loss\n",
    "criterion = nn.MSELoss()\n",
    "\n",
    "runner = SupervisedRunner(\n",
    "    device=device,)\n",
    "\n",
    "runner.train(\n",
    "    model=model,\n",
    "    criterion=nn.MSELoss(),\n",
    "    loaders=loaders,\n",
    "    optimizer=optimizer,\n",
    "    scheduler=scheduler,\n",
    "    num_epochs=30,\n",
    "    verbose=True,\n",
    "    logdir=output_path,\n",
    "    callbacks=[WandbLogger(project=\"my-first-project\",name= 'train-17(h=512,l=2)')],\n",
    ")"
   ]
  }
 ],
 "metadata": {
  "kernelspec": {
   "display_name": "Python 3",
   "language": "python",
   "name": "python3"
  },
  "language_info": {
   "codemirror_mode": {
    "name": "ipython",
    "version": 3
   },
   "file_extension": ".py",
   "mimetype": "text/x-python",
   "name": "python",
   "nbconvert_exporter": "python",
   "pygments_lexer": "ipython3",
   "version": "3.7.6"
  },
  "papermill": {
   "duration": 1510.485296,
   "end_time": "2020-09-25T13:49:08.573444",
   "environment_variables": {},
   "exception": null,
   "input_path": "__notebook__.ipynb",
   "output_path": "__notebook__.ipynb",
   "parameters": {},
   "start_time": "2020-09-25T13:23:58.088148",
   "version": "2.1.0"
  }
 },
 "nbformat": 4,
 "nbformat_minor": 4
}