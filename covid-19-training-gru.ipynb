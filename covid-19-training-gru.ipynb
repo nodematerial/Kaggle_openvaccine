{
 "cells": [
  {
   "cell_type": "code",
   "execution_count": 1,
   "metadata": {
    "_cell_guid": "79c7e3d0-c299-4dcb-8224-4455121ee9b0",
    "_uuid": "d629ff2d2480ee46fbb7e2d37f6b5fab8052498a",
    "execution": {
     "iopub.execute_input": "2020-09-25T13:01:55.478023Z",
     "iopub.status.busy": "2020-09-25T13:01:55.477462Z",
     "iopub.status.idle": "2020-09-25T13:02:06.467270Z",
     "shell.execute_reply": "2020-09-25T13:02:06.466712Z"
    },
    "papermill": {
     "duration": 11.007204,
     "end_time": "2020-09-25T13:02:06.467385",
     "exception": false,
     "start_time": "2020-09-25T13:01:55.460181",
     "status": "completed"
    },
    "tags": []
   },
   "outputs": [
    {
     "name": "stderr",
     "output_type": "stream",
     "text": [
      "\u001b[34m\u001b[1mwandb\u001b[0m: \u001b[33mWARNING\u001b[0m W&B installed but not logged in.  Run `wandb login` or set the WANDB_API_KEY env variable.\n"
     ]
    }
   ],
   "source": [
    "import time\n",
    "import warnings\n",
    "warnings.filterwarnings('ignore')\n",
    "import wandb\n",
    "import pandas as pd, numpy as np\n",
    "import math, json, gc, random, os, sys\n",
    "import torch\n",
    "import logging\n",
    "import torch.nn as nn\n",
    "import torch.optim as optim\n",
    "import torch.utils.data as data\n",
    "from sklearn.model_selection import train_test_split\n",
    "from catalyst.dl import SupervisedRunner\n",
    "from catalyst.contrib.dl.callbacks import WandbLogger\n",
    "from contextlib import contextmanager\n",
    "from catalyst.dl.callbacks import AccuracyCallback, F1ScoreCallback, OptimizerCallback\n",
    "#from pytorch_memlab import profile, MemReporter\n",
    "\n",
    "device = torch.device(\"cuda:0\" if torch.cuda.is_available() else \"cpu\")"
   ]
  },
  {
   "cell_type": "code",
   "execution_count": 3,
   "metadata": {
    "execution": {
     "iopub.execute_input": "2020-09-25T13:02:08.228187Z",
     "iopub.status.busy": "2020-09-25T13:02:08.227458Z",
     "iopub.status.idle": "2020-09-25T13:02:08.229829Z",
     "shell.execute_reply": "2020-09-25T13:02:08.230354Z"
    },
    "papermill": {
     "duration": 0.019612,
     "end_time": "2020-09-25T13:02:08.230458",
     "exception": false,
     "start_time": "2020-09-25T13:02:08.210846",
     "status": "completed"
    },
    "tags": []
   },
   "outputs": [],
   "source": [
    "def set_seed(seed: int):\n",
    "    random.seed(seed)\n",
    "    np.random.seed(seed)\n",
    "    os.environ[\"PYTHONHASHSEED\"] = str(seed)\n",
    "    torch.manual_seed(seed)\n",
    "    torch.cuda.manual_seed(seed)  # type: ignore\n",
    "    torch.backends.cudnn.deterministic = True  # type: ignore\n",
    "    torch.backends.cudnn.benchmark = True  # type: ignore"
   ]
  },
  {
   "cell_type": "code",
   "execution_count": 4,
   "metadata": {
    "execution": {
     "iopub.execute_input": "2020-09-25T13:02:08.255221Z",
     "iopub.status.busy": "2020-09-25T13:02:08.254527Z",
     "iopub.status.idle": "2020-09-25T13:02:08.260198Z",
     "shell.execute_reply": "2020-09-25T13:02:08.259724Z"
    },
    "papermill": {
     "duration": 0.019638,
     "end_time": "2020-09-25T13:02:08.260287",
     "exception": false,
     "start_time": "2020-09-25T13:02:08.240649",
     "status": "completed"
    },
    "tags": []
   },
   "outputs": [],
   "source": [
    "set_seed(2020)"
   ]
  },
  {
   "cell_type": "code",
   "execution_count": 5,
   "metadata": {
    "execution": {
     "iopub.execute_input": "2020-09-25T13:02:08.285443Z",
     "iopub.status.busy": "2020-09-25T13:02:08.284838Z",
     "iopub.status.idle": "2020-09-25T13:02:08.791683Z",
     "shell.execute_reply": "2020-09-25T13:02:08.790724Z"
    },
    "papermill": {
     "duration": 0.52106,
     "end_time": "2020-09-25T13:02:08.791811",
     "exception": false,
     "start_time": "2020-09-25T13:02:08.270751",
     "status": "completed"
    },
    "tags": []
   },
   "outputs": [],
   "source": [
    "train = pd.read_json('/kaggle/input/stanford-covid-vaccine/train.json', lines=True)\n",
    "train=train[train['SN_filter']==1]"
   ]
  },
  {
   "cell_type": "code",
   "execution_count": 6,
   "metadata": {
    "execution": {
     "iopub.execute_input": "2020-09-25T13:02:08.821235Z",
     "iopub.status.busy": "2020-09-25T13:02:08.820333Z",
     "iopub.status.idle": "2020-09-25T13:02:11.123132Z",
     "shell.execute_reply": "2020-09-25T13:02:11.121973Z"
    },
    "papermill": {
     "duration": 2.320394,
     "end_time": "2020-09-25T13:02:11.123254",
     "exception": false,
     "start_time": "2020-09-25T13:02:08.802860",
     "status": "completed"
    },
    "tags": []
   },
   "outputs": [],
   "source": [
    "bpp_max =[]\n",
    "bpp_sum =[]\n",
    "\n",
    "id = train.id.values\n",
    "for i in id:\n",
    "    probability = np.load('../input/stanford-covid-vaccine'+'/bpps/%s.npy'%i)\n",
    "    bpp_max.append(probability.max(-1).tolist())\n",
    "    bpp_sum.append(probability.sum(-1).tolist())"
   ]
  },
  {
   "cell_type": "code",
   "execution_count": 7,
   "metadata": {
    "execution": {
     "iopub.execute_input": "2020-09-25T13:02:11.169715Z",
     "iopub.status.busy": "2020-09-25T13:02:11.158113Z",
     "iopub.status.idle": "2020-09-25T13:02:11.172492Z",
     "shell.execute_reply": "2020-09-25T13:02:11.172026Z"
    },
    "papermill": {
     "duration": 0.038066,
     "end_time": "2020-09-25T13:02:11.172581",
     "exception": false,
     "start_time": "2020-09-25T13:02:11.134515",
     "status": "completed"
    },
    "tags": []
   },
   "outputs": [],
   "source": [
    "train['bpp_max']=bpp_max\n",
    "train['bpp_sum']=bpp_sum"
   ]
  },
  {
   "cell_type": "code",
   "execution_count": 8,
   "metadata": {
    "execution": {
     "iopub.execute_input": "2020-09-25T13:02:11.206751Z",
     "iopub.status.busy": "2020-09-25T13:02:11.205267Z",
     "iopub.status.idle": "2020-09-25T13:02:11.210404Z",
     "shell.execute_reply": "2020-09-25T13:02:11.209976Z"
    },
    "papermill": {
     "duration": 0.02599,
     "end_time": "2020-09-25T13:02:11.210504",
     "exception": false,
     "start_time": "2020-09-25T13:02:11.184514",
     "status": "completed"
    },
    "tags": []
   },
   "outputs": [],
   "source": [
    "trainval_x=train.loc[:,['id','sequence','structure','predicted_loop_type','bpp_max','bpp_sum']]\n",
    "trainval_y=train.loc[:,['reactivity','deg_Mg_pH10','deg_pH10','deg_Mg_50C','deg_50C']]\n",
    "trainval_x=trainval_x.reset_index(drop=True)\n",
    "trainval_y=trainval_y.reset_index(drop=True)"
   ]
  },
  {
   "cell_type": "code",
   "execution_count": 9,
   "metadata": {
    "execution": {
     "iopub.execute_input": "2020-09-25T13:02:11.238094Z",
     "iopub.status.busy": "2020-09-25T13:02:11.236900Z",
     "iopub.status.idle": "2020-09-25T13:02:11.241651Z",
     "shell.execute_reply": "2020-09-25T13:02:11.241231Z"
    },
    "papermill": {
     "duration": 0.020169,
     "end_time": "2020-09-25T13:02:11.241738",
     "exception": false,
     "start_time": "2020-09-25T13:02:11.221569",
     "status": "completed"
    },
    "tags": []
   },
   "outputs": [],
   "source": [
    "train_x,val_x,train_y,val_y=train_test_split(trainval_x,trainval_y,test_size=0.2)"
   ]
  },
  {
   "cell_type": "code",
   "execution_count": 10,
   "metadata": {
    "execution": {
     "iopub.execute_input": "2020-09-25T13:02:11.276711Z",
     "iopub.status.busy": "2020-09-25T13:02:11.274965Z",
     "iopub.status.idle": "2020-09-25T13:02:11.277341Z",
     "shell.execute_reply": "2020-09-25T13:02:11.277752Z"
    },
    "papermill": {
     "duration": 0.025207,
     "end_time": "2020-09-25T13:02:11.277849",
     "exception": false,
     "start_time": "2020-09-25T13:02:11.252642",
     "status": "completed"
    },
    "tags": []
   },
   "outputs": [],
   "source": [
    "token2int = {x:i for i, x in enumerate('().ACGUBEHIMSX')}\n",
    "def preprocess_inputs_train(df, cols=['sequence', 'structure', 'predicted_loop_type']):\n",
    "    base_fea= np.transpose(\n",
    "        np.array(\n",
    "            df[cols]\n",
    "            .applymap(lambda seq: [token2int[x] for x in seq])\n",
    "            .values\n",
    "            .tolist()\n",
    "        ),\n",
    "        (0, 2, 1)\n",
    "    )\n",
    "    bpps_max_fea = np.array(train_x['bpp_max'].to_list())[:,:,np.newaxis]\n",
    "    bpps_sum_fea = np.array(train_x['bpp_sum'].to_list())[:,:,np.newaxis]\n",
    "    return np.concatenate([base_fea,bpps_max_fea,bpps_sum_fea], 2)\n",
    "\n",
    "def preprocess_inputs_val(df, cols=['sequence', 'structure', 'predicted_loop_type']):\n",
    "    base_fea= np.transpose(\n",
    "        np.array(\n",
    "            df[cols]\n",
    "            .applymap(lambda seq: [token2int[x] for x in seq])\n",
    "            .values\n",
    "            .tolist()\n",
    "        ),\n",
    "        (0, 2, 1)\n",
    "    )\n",
    "    bpps_max_fea = np.array(val_x['bpp_max'].to_list())[:,:,np.newaxis]\n",
    "    bpps_sum_fea = np.array(val_x['bpp_sum'].to_list())[:,:,np.newaxis]\n",
    "    return np.concatenate([base_fea,bpps_max_fea,bpps_sum_fea], 2)"
   ]
  },
  {
   "cell_type": "code",
   "execution_count": 11,
   "metadata": {
    "execution": {
     "iopub.execute_input": "2020-09-25T13:02:11.372066Z",
     "iopub.status.busy": "2020-09-25T13:02:11.370221Z",
     "iopub.status.idle": "2020-09-25T13:02:11.372652Z",
     "shell.execute_reply": "2020-09-25T13:02:11.373161Z"
    },
    "papermill": {
     "duration": 0.084415,
     "end_time": "2020-09-25T13:02:11.373289",
     "exception": false,
     "start_time": "2020-09-25T13:02:11.288874",
     "status": "completed"
    },
    "tags": []
   },
   "outputs": [],
   "source": [
    "train_y_array= np.array(train_y.values.tolist()).transpose(0, 2, 1)\n",
    "val_y_array= np.array(val_y.values.tolist()).transpose(0, 2, 1)"
   ]
  },
  {
   "cell_type": "code",
   "execution_count": 12,
   "metadata": {
    "execution": {
     "iopub.execute_input": "2020-09-25T13:02:11.402445Z",
     "iopub.status.busy": "2020-09-25T13:02:11.401849Z",
     "iopub.status.idle": "2020-09-25T13:02:11.590313Z",
     "shell.execute_reply": "2020-09-25T13:02:11.590717Z"
    },
    "papermill": {
     "duration": 0.205764,
     "end_time": "2020-09-25T13:02:11.590849",
     "exception": false,
     "start_time": "2020-09-25T13:02:11.385085",
     "status": "completed"
    },
    "tags": []
   },
   "outputs": [],
   "source": [
    "train_inputs = torch.from_numpy(preprocess_inputs_train(train_x))\n",
    "val_inputs = torch.from_numpy(preprocess_inputs_val(val_x))\n",
    "train_outputs=torch.tensor(train_y_array).clone().double()\n",
    "val_outputs=torch.tensor(val_y_array).clone().double()"
   ]
  },
  {
   "cell_type": "code",
   "execution_count": 13,
   "metadata": {
    "execution": {
     "iopub.execute_input": "2020-09-25T13:02:11.619731Z",
     "iopub.status.busy": "2020-09-25T13:02:11.619038Z",
     "iopub.status.idle": "2020-09-25T13:02:11.622905Z",
     "shell.execute_reply": "2020-09-25T13:02:11.622506Z"
    },
    "papermill": {
     "duration": 0.020512,
     "end_time": "2020-09-25T13:02:11.622992",
     "exception": false,
     "start_time": "2020-09-25T13:02:11.602480",
     "status": "completed"
    },
    "tags": []
   },
   "outputs": [],
   "source": [
    "class DataSet:\n",
    "    def __init__(self,X,Y):\n",
    "        self.X = X# 入力\n",
    "        self.t = Y# 出力\n",
    "\n",
    "    def __len__(self):\n",
    "        return len(self.X) \n",
    "\n",
    "    def __getitem__(self, index):\n",
    "        return self.X[index], self.t[index]"
   ]
  },
  {
   "cell_type": "code",
   "execution_count": 14,
   "metadata": {
    "execution": {
     "iopub.execute_input": "2020-09-25T13:02:11.657799Z",
     "iopub.status.busy": "2020-09-25T13:02:11.656477Z",
     "iopub.status.idle": "2020-09-25T13:02:11.658986Z",
     "shell.execute_reply": "2020-09-25T13:02:11.659384Z"
    },
    "papermill": {
     "duration": 0.025166,
     "end_time": "2020-09-25T13:02:11.659499",
     "exception": false,
     "start_time": "2020-09-25T13:02:11.634333",
     "status": "completed"
    },
    "tags": []
   },
   "outputs": [],
   "source": [
    "class GRU_model(nn.Module):\n",
    "    def __init__(\n",
    "        self, seq_len=107, pred_len=68, dropout=0.5, embed_dim=100, hidden_dim=1024, hidden_layers=2\n",
    "    ):\n",
    "        super(GRU_model, self).__init__()\n",
    "        self.pred_len = pred_len\n",
    "\n",
    "        self.embeding = nn.Embedding(num_embeddings=len(token2int), embedding_dim=embed_dim)\n",
    "        self.gru = nn.GRU(\n",
    "            input_size=embed_dim * 3+2,\n",
    "            hidden_size=hidden_dim,\n",
    "            num_layers=hidden_layers,\n",
    "            dropout=dropout,\n",
    "            bidirectional=True,\n",
    "            batch_first=True,\n",
    "        )\n",
    "        self.linear = nn.Linear(hidden_dim * 2, 5)\n",
    "\n",
    "    def forward(self, seqs):\n",
    "        embed = self.embeding(seqs[:,:,0:3].long())\n",
    "        reshaped = torch.reshape(embed, (-1, embed.shape[1], embed.shape[2] * embed.shape[3]))\n",
    "        reshaped= torch.cat((reshaped,seqs[:,:,3:5]),2)\n",
    "        output, hidden = self.gru(reshaped)\n",
    "        truncated = output[:, : self.pred_len, :]\n",
    "        out = self.linear(truncated)\n",
    "        return out"
   ]
  },
  {
   "cell_type": "code",
   "execution_count": 15,
   "metadata": {
    "execution": {
     "iopub.execute_input": "2020-09-25T13:02:11.693341Z",
     "iopub.status.busy": "2020-09-25T13:02:11.692724Z",
     "iopub.status.idle": "2020-09-25T13:20:30.078162Z",
     "shell.execute_reply": "2020-09-25T13:20:30.076604Z"
    },
    "papermill": {
     "duration": 1098.407251,
     "end_time": "2020-09-25T13:20:30.078280",
     "exception": false,
     "start_time": "2020-09-25T13:02:11.671029",
     "status": "completed"
    },
    "tags": []
   },
   "outputs": [
    {
     "data": {
      "text/html": [
       "\n",
       "                Logging results to <a href=\"https://wandb.com\" target=\"_blank\">Weights & Biases</a> <a href=\"https://docs.wandb.com/integrations/jupyter.html\" target=\"_blank\">(Documentation)</a>.<br/>\n",
       "                Project page: <a href=\"https://app.wandb.ai/kota-noda/GRU-project\" target=\"_blank\">https://app.wandb.ai/kota-noda/GRU-project</a><br/>\n",
       "                Run page: <a href=\"https://app.wandb.ai/kota-noda/GRU-project/runs/2d1uvboa\" target=\"_blank\">https://app.wandb.ai/kota-noda/GRU-project/runs/2d1uvboa</a><br/>\n",
       "            "
      ],
      "text/plain": [
       "<IPython.core.display.HTML object>"
      ]
     },
     "metadata": {},
     "output_type": "display_data"
    },
    {
     "name": "stderr",
     "output_type": "stream",
     "text": [
      "wandb: Wandb version 0.10.2 is available!  To upgrade, please run:\n",
      "wandb:  $ pip install wandb --upgrade\n"
     ]
    },
    {
     "name": "stdout",
     "output_type": "stream",
     "text": [
      "1/30 * Epoch (train): 100% 39/39 [00:09<00:00,  4.13it/s, loss=0.153]\n",
      "1/30 * Epoch (valid): 100% 10/10 [00:00<00:00, 11.47it/s, loss=0.146]\n",
      "[2020-09-25 13:02:30,362] \n",
      "1/30 * Epoch 1 (_base): lr=0.0010 | momentum=0.9000\n",
      "1/30 * Epoch 1 (train): loss=0.7062\n",
      "1/30 * Epoch 1 (valid): loss=0.1408\n",
      "2/30 * Epoch (train): 100% 39/39 [00:09<00:00,  4.18it/s, loss=0.102]\n",
      "2/30 * Epoch (valid): 100% 10/10 [00:00<00:00, 11.20it/s, loss=0.100]\n",
      "[2020-09-25 13:02:56,262] \n",
      "2/30 * Epoch 2 (_base): lr=0.0010 | momentum=0.9000\n",
      "2/30 * Epoch 2 (train): loss=0.1261\n",
      "2/30 * Epoch 2 (valid): loss=0.1020\n",
      "3/30 * Epoch (train): 100% 39/39 [00:09<00:00,  4.22it/s, loss=0.094]\n",
      "3/30 * Epoch (valid): 100% 10/10 [00:00<00:00, 11.41it/s, loss=0.087]\n",
      "[2020-09-25 13:03:36,663] \n",
      "3/30 * Epoch 3 (_base): lr=0.0010 | momentum=0.9000\n",
      "3/30 * Epoch 3 (train): loss=0.1026\n",
      "3/30 * Epoch 3 (valid): loss=0.0904\n",
      "4/30 * Epoch (train): 100% 39/39 [00:09<00:00,  4.21it/s, loss=0.081]\n",
      "4/30 * Epoch (valid): 100% 10/10 [00:00<00:00, 11.37it/s, loss=0.083]\n",
      "[2020-09-25 13:04:17,023] \n",
      "4/30 * Epoch 4 (_base): lr=0.0009 | momentum=0.9000\n",
      "4/30 * Epoch 4 (train): loss=0.0931\n",
      "4/30 * Epoch 4 (valid): loss=0.0854\n",
      "5/30 * Epoch (train): 100% 39/39 [00:35<00:00,  1.09it/s, loss=0.079]\n",
      "5/30 * Epoch (valid): 100% 10/10 [00:01<00:00,  7.33it/s, loss=0.074]\n",
      "[2020-09-25 13:04:59,056] \n",
      "5/30 * Epoch 5 (_base): lr=0.0009 | momentum=0.9000\n",
      "5/30 * Epoch 5 (train): loss=0.0861\n",
      "5/30 * Epoch 5 (valid): loss=0.0779\n",
      "6/30 * Epoch (train): 100% 39/39 [00:09<00:00,  4.21it/s, loss=0.073]\n",
      "6/30 * Epoch (valid): 100% 10/10 [00:00<00:00, 11.44it/s, loss=0.068]\n",
      "[2020-09-25 13:05:37,945] \n",
      "6/30 * Epoch 6 (_base): lr=0.0009 | momentum=0.9000\n",
      "6/30 * Epoch 6 (train): loss=0.0801\n",
      "6/30 * Epoch 6 (valid): loss=0.0720\n",
      "7/30 * Epoch (train): 100% 39/39 [00:09<00:00,  4.21it/s, loss=0.068]\n",
      "7/30 * Epoch (valid): 100% 10/10 [00:00<00:00, 11.40it/s, loss=0.064]\n",
      "[2020-09-25 13:06:18,307] \n",
      "7/30 * Epoch 7 (_base): lr=0.0009 | momentum=0.9000\n",
      "7/30 * Epoch 7 (train): loss=0.0757\n",
      "7/30 * Epoch 7 (valid): loss=0.0687\n",
      "8/30 * Epoch (train): 100% 39/39 [00:09<00:00,  4.20it/s, loss=0.084]\n",
      "8/30 * Epoch (valid): 100% 10/10 [00:00<00:00, 11.45it/s, loss=0.061]\n",
      "[2020-09-25 13:07:06,951] \n",
      "8/30 * Epoch 8 (_base): lr=0.0008 | momentum=0.9000\n",
      "8/30 * Epoch 8 (train): loss=0.0713\n",
      "8/30 * Epoch 8 (valid): loss=0.0653\n",
      "9/30 * Epoch (train): 100% 39/39 [00:09<00:00,  4.22it/s, loss=0.058]\n",
      "9/30 * Epoch (valid): 100% 10/10 [00:00<00:00, 11.49it/s, loss=0.059]\n",
      "[2020-09-25 13:07:39,230] \n",
      "9/30 * Epoch 9 (_base): lr=0.0008 | momentum=0.9000\n",
      "9/30 * Epoch 9 (train): loss=0.0682\n",
      "9/30 * Epoch 9 (valid): loss=0.0634\n",
      "10/30 * Epoch (train): 100% 39/39 [00:09<00:00,  4.20it/s, loss=0.064]\n",
      "10/30 * Epoch (valid): 100% 10/10 [00:00<00:00, 10.76it/s, loss=0.060]\n",
      "[2020-09-25 13:08:19,710] \n",
      "10/30 * Epoch 10 (_base): lr=0.0008 | momentum=0.9000\n",
      "10/30 * Epoch 10 (train): loss=0.0650\n",
      "10/30 * Epoch 10 (valid): loss=0.0632\n",
      "11/30 * Epoch (train): 100% 39/39 [00:09<00:00,  4.21it/s, loss=0.059]\n",
      "11/30 * Epoch (valid): 100% 10/10 [00:00<00:00, 11.41it/s, loss=0.058]\n",
      "[2020-09-25 13:09:00,077] \n",
      "11/30 * Epoch 11 (_base): lr=0.0007 | momentum=0.9000\n",
      "11/30 * Epoch 11 (train): loss=0.0623\n",
      "11/30 * Epoch 11 (valid): loss=0.0614\n",
      "12/30 * Epoch (train): 100% 39/39 [00:09<00:00,  4.18it/s, loss=0.053]\n",
      "12/30 * Epoch (valid): 100% 10/10 [00:00<00:00, 11.50it/s, loss=0.053]\n",
      "[2020-09-25 13:09:48,313] \n",
      "12/30 * Epoch 12 (_base): lr=0.0007 | momentum=0.9000\n",
      "12/30 * Epoch 12 (train): loss=0.0597\n",
      "12/30 * Epoch 12 (valid): loss=0.0585\n",
      "13/30 * Epoch (train): 100% 39/39 [00:28<00:00,  1.37it/s, loss=0.059]\n",
      "13/30 * Epoch (valid): 100% 10/10 [00:01<00:00,  8.66it/s, loss=0.053]\n",
      "[2020-09-25 13:10:22,264] \n",
      "13/30 * Epoch 13 (_base): lr=0.0006 | momentum=0.9000\n",
      "13/30 * Epoch 13 (train): loss=0.0572\n",
      "13/30 * Epoch 13 (valid): loss=0.0579\n",
      "14/30 * Epoch (train): 100% 39/39 [00:09<00:00,  4.21it/s, loss=0.051]\n",
      "14/30 * Epoch (valid): 100% 10/10 [00:00<00:00, 11.35it/s, loss=0.058]\n",
      "[2020-09-25 13:11:01,477] \n",
      "14/30 * Epoch 14 (_base): lr=0.0006 | momentum=0.9000\n",
      "14/30 * Epoch 14 (train): loss=0.0552\n",
      "14/30 * Epoch 14 (valid): loss=0.0603\n",
      "15/30 * Epoch (train): 100% 39/39 [00:09<00:00,  4.21it/s, loss=0.047]\n",
      "15/30 * Epoch (valid): 100% 10/10 [00:00<00:00, 11.25it/s, loss=0.052]\n",
      "[2020-09-25 13:11:28,399] \n",
      "15/30 * Epoch 15 (_base): lr=0.0005 | momentum=0.9000\n",
      "15/30 * Epoch 15 (train): loss=0.0533\n",
      "15/30 * Epoch 15 (valid): loss=0.0568\n",
      "16/30 * Epoch (train): 100% 39/39 [00:09<00:00,  4.20it/s, loss=0.053]\n",
      "16/30 * Epoch (valid): 100% 10/10 [00:00<00:00, 11.41it/s, loss=0.051]\n",
      "[2020-09-25 13:12:08,871] \n",
      "16/30 * Epoch 16 (_base): lr=0.0005 | momentum=0.9000\n",
      "16/30 * Epoch 16 (train): loss=0.0512\n",
      "16/30 * Epoch 16 (valid): loss=0.0557\n",
      "17/30 * Epoch (train): 100% 39/39 [00:09<00:00,  4.21it/s, loss=0.048]\n",
      "17/30 * Epoch (valid): 100% 10/10 [00:00<00:00, 11.47it/s, loss=0.051]\n",
      "[2020-09-25 13:12:49,270] \n",
      "17/30 * Epoch 17 (_base): lr=0.0004 | momentum=0.9000\n",
      "17/30 * Epoch 17 (train): loss=0.0497\n",
      "17/30 * Epoch 17 (valid): loss=0.0550\n",
      "18/30 * Epoch (train): 100% 39/39 [00:09<00:00,  4.21it/s, loss=0.053]\n",
      "18/30 * Epoch (valid): 100% 10/10 [00:00<00:00, 11.39it/s, loss=0.050]\n",
      "[2020-09-25 13:13:29,747] \n",
      "18/30 * Epoch 18 (_base): lr=0.0004 | momentum=0.9000\n",
      "18/30 * Epoch 18 (train): loss=0.0488\n",
      "18/30 * Epoch 18 (valid): loss=0.0556\n",
      "19/30 * Epoch (train): 100% 39/39 [00:23<00:00,  1.65it/s, loss=0.049]\n",
      "19/30 * Epoch (valid): 100% 10/10 [00:01<00:00,  8.39it/s, loss=0.049]\n",
      "[2020-09-25 13:13:58,006] \n",
      "19/30 * Epoch 19 (_base): lr=0.0003 | momentum=0.9000\n",
      "19/30 * Epoch 19 (train): loss=0.0471\n",
      "19/30 * Epoch 19 (valid): loss=0.0541\n",
      "20/30 * Epoch (train): 100% 39/39 [00:09<00:00,  4.23it/s, loss=0.040]\n",
      "20/30 * Epoch (valid): 100% 10/10 [00:00<00:00, 11.37it/s, loss=0.050]\n",
      "[2020-09-25 13:14:45,070] \n",
      "20/30 * Epoch 20 (_base): lr=0.0003 | momentum=0.9000\n",
      "20/30 * Epoch 20 (train): loss=0.0456\n",
      "20/30 * Epoch 20 (valid): loss=0.0545\n",
      "21/30 * Epoch (train): 100% 39/39 [00:09<00:00,  4.20it/s, loss=0.043]\n",
      "21/30 * Epoch (valid): 100% 10/10 [00:00<00:00, 11.32it/s, loss=0.048]\n",
      "[2020-09-25 13:15:04,136] \n",
      "21/30 * Epoch 21 (_base): lr=0.0003 | momentum=0.9000\n",
      "21/30 * Epoch 21 (train): loss=0.0442\n",
      "21/30 * Epoch 21 (valid): loss=0.0533\n",
      "22/30 * Epoch (train): 100% 39/39 [00:09<00:00,  4.19it/s, loss=0.049]\n",
      "22/30 * Epoch (valid): 100% 10/10 [00:00<00:00, 11.46it/s, loss=0.048]\n",
      "[2020-09-25 13:15:41,173] \n",
      "22/30 * Epoch 22 (_base): lr=0.0002 | momentum=0.9000\n",
      "22/30 * Epoch 22 (train): loss=0.0433\n",
      "22/30 * Epoch 22 (valid): loss=0.0533\n",
      "23/30 * Epoch (train): 100% 39/39 [00:09<00:00,  4.21it/s, loss=0.043]\n",
      "23/30 * Epoch (valid): 100% 10/10 [00:00<00:00, 11.26it/s, loss=0.050]\n",
      "[2020-09-25 13:16:25,004] \n",
      "23/30 * Epoch 23 (_base): lr=0.0002 | momentum=0.9000\n",
      "23/30 * Epoch 23 (train): loss=0.0425\n",
      "23/30 * Epoch 23 (valid): loss=0.0538\n",
      "24/30 * Epoch (train): 100% 39/39 [00:09<00:00,  4.21it/s, loss=0.041]\n",
      "24/30 * Epoch (valid): 100% 10/10 [00:00<00:00, 11.20it/s, loss=0.047]\n",
      "[2020-09-25 13:16:51,937] \n",
      "24/30 * Epoch 24 (_base): lr=0.0001 | momentum=0.9000\n",
      "24/30 * Epoch 24 (train): loss=0.0419\n",
      "24/30 * Epoch 24 (valid): loss=0.0523\n",
      "25/30 * Epoch (train): 100% 39/39 [00:09<00:00,  4.21it/s, loss=0.035]\n",
      "25/30 * Epoch (valid): 100% 10/10 [00:00<00:00, 11.36it/s, loss=0.047]\n",
      "[2020-09-25 13:17:32,417] \n",
      "25/30 * Epoch 25 (_base): lr=0.0001 | momentum=0.9000\n",
      "25/30 * Epoch 25 (train): loss=0.0409\n",
      "25/30 * Epoch 25 (valid): loss=0.0526\n",
      "26/30 * Epoch (train): 100% 39/39 [00:09<00:00,  4.21it/s, loss=0.036]\n",
      "26/30 * Epoch (valid): 100% 10/10 [00:00<00:00, 11.14it/s, loss=0.048]\n",
      "[2020-09-25 13:17:59,350] \n",
      "26/30 * Epoch 26 (_base): lr=8.284e-05 | momentum=0.9000\n",
      "26/30 * Epoch 26 (train): loss=0.0405\n",
      "26/30 * Epoch 26 (valid): loss=0.0527\n",
      "27/30 * Epoch (train): 100% 39/39 [00:09<00:00,  4.21it/s, loss=0.039]\n",
      "27/30 * Epoch (valid): 100% 10/10 [00:00<00:00, 11.40it/s, loss=0.048]\n",
      "[2020-09-25 13:18:26,377] \n",
      "27/30 * Epoch 27 (_base): lr=5.889e-05 | momentum=0.9000\n",
      "27/30 * Epoch 27 (train): loss=0.0400\n",
      "27/30 * Epoch 27 (valid): loss=0.0526\n",
      "28/30 * Epoch (train): 100% 39/39 [00:09<00:00,  4.21it/s, loss=0.033]\n",
      "28/30 * Epoch (valid): 100% 10/10 [00:00<00:00, 11.13it/s, loss=0.048]\n",
      "[2020-09-25 13:18:53,309] \n",
      "28/30 * Epoch 28 (_base): lr=3.892e-05 | momentum=0.9000\n",
      "28/30 * Epoch 28 (train): loss=0.0396\n",
      "28/30 * Epoch 28 (valid): loss=0.0524\n",
      "29/30 * Epoch (train): 100% 39/39 [00:09<00:00,  4.21it/s, loss=0.043]\n",
      "29/30 * Epoch (valid): 100% 10/10 [00:00<00:00, 11.43it/s, loss=0.047]\n",
      "[2020-09-25 13:19:20,321] \n",
      "29/30 * Epoch 29 (_base): lr=2.308e-05 | momentum=0.9000\n",
      "29/30 * Epoch 29 (train): loss=0.0392\n",
      "29/30 * Epoch 29 (valid): loss=0.0522\n",
      "30/30 * Epoch (train): 100% 39/39 [00:09<00:00,  4.21it/s, loss=0.048]\n",
      "30/30 * Epoch (valid): 100% 10/10 [00:00<00:00, 11.03it/s, loss=0.048]\n",
      "[2020-09-25 13:20:10,994] \n",
      "30/30 * Epoch 30 (_base): lr=1.145e-05 | momentum=0.9000\n",
      "30/30 * Epoch 30 (train): loss=0.0388\n",
      "30/30 * Epoch 30 (valid): loss=0.0523\n",
      "Top best models:\n",
      "checkpoints/train.29.pth\t0.0522\n"
     ]
    }
   ],
   "source": [
    "loaders = {\n",
    "    \"train\": data.DataLoader(DataSet(train_inputs,train_outputs), \n",
    "                             batch_size=32, \n",
    "                             shuffle=True, \n",
    "                             num_workers=2, \n",
    "                             pin_memory=True, \n",
    "                             drop_last=True),\n",
    "    \"valid\": data.DataLoader(DataSet(val_inputs,val_outputs), \n",
    "                             batch_size=32, \n",
    "                             shuffle=False,\n",
    "                             num_workers=2,\n",
    "                             pin_memory=True,\n",
    "                             drop_last=False)\n",
    "}\n",
    "\n",
    "output_path = './'\n",
    "\n",
    "# model\n",
    "model = GRU_model().to(device).double()\n",
    "\n",
    "# Optimizer\n",
    "optimizer = optim.Adam(model.parameters(), lr=0.001)\n",
    "\n",
    "# Scheduler\n",
    "scheduler = optim.lr_scheduler.CosineAnnealingLR(optimizer, T_max=33)\n",
    "\n",
    "# Loss\n",
    "criterion = nn.MSELoss()\n",
    "\n",
    "runner = SupervisedRunner(\n",
    "    device=device,)\n",
    "\n",
    "runner.train(\n",
    "    model=model,\n",
    "    criterion=nn.MSELoss(),\n",
    "    loaders=loaders,\n",
    "    optimizer=optimizer,\n",
    "    scheduler=scheduler,\n",
    "    num_epochs=30,\n",
    "    verbose=True,\n",
    "    logdir=output_path,\n",
    "    callbacks=[WandbLogger(project=\"GRU-project\",name= 'train-7(h=512,l=2)')],\n",
    ")"
   ]
  }
 ],
 "metadata": {
  "kernelspec": {
   "display_name": "Python 3",
   "language": "python",
   "name": "python3"
  },
  "language_info": {
   "codemirror_mode": {
    "name": "ipython",
    "version": 3
   },
   "file_extension": ".py",
   "mimetype": "text/x-python",
   "name": "python",
   "nbconvert_exporter": "python",
   "pygments_lexer": "ipython3",
   "version": "3.7.6"
  },
  "papermill": {
   "duration": 1120.251082,
   "end_time": "2020-09-25T13:20:31.475056",
   "environment_variables": {},
   "exception": null,
   "input_path": "__notebook__.ipynb",
   "output_path": "__notebook__.ipynb",
   "parameters": {},
   "start_time": "2020-09-25T13:01:51.223974",
   "version": "2.1.0"
  }
 },
 "nbformat": 4,
 "nbformat_minor": 4
}